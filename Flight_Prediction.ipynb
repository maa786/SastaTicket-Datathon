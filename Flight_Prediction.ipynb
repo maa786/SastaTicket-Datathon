{
 "cells": [
  {
   "cell_type": "markdown",
   "id": "6d980c12",
   "metadata": {},
   "source": [
    "# Flight price prediction model\n",
    "\n",
    "## Instruction:\n",
    "\n",
    "    1. You will have a dataset.\n",
    "    2. Find the cheapest and expenses flight at a same time.\n",
    "    3. You have to go through EDA.\n",
    "    4. ML model\n",
    "    5. find a sweer spot for each ticket."
   ]
  },
  {
   "cell_type": "markdown",
   "id": "c20cdba5",
   "metadata": {},
   "source": [
    "## What are you to do?\n",
    "Ahmed is a customer of Sastaticket.pk. He is planning to fly from Karachi to Islamabad for his\n",
    "brother’s wedding and is currently in the process of choosing tickets. Ahmed has to go to\n",
    "Islamabad but Ahmed also wants to save some money in the process, so he chooses to wait\n",
    "instead of buy now, simply because ticket prices are just too high.\\\n",
    "Is this the right decision? Won’t ticket prices increase in the future? Perhaps there is a\n",
    "sweet-spot Ahmed is hoping to find and maybe he just might find it.\\\n",
    "This is the problem that you will be tackling in this competition. Can you predict future prices\n",
    "accurately to such a degree that you can now tell Ahmed - with confidence - that he has made\n",
    "the wrong decision.\\\n",
    "Your task boils down to generating optimal predictions for flight prices of multiple airlines. If\n",
    "successful, your model will contribute greatly to Sastaticket’s rich and diverse set of operating\n",
    "algorithms."
   ]
  },
  {
   "cell_type": "markdown",
   "id": "61c69e90",
   "metadata": {},
   "source": [
    "# Exploratory Data Analysis\n",
    "\n",
    "### We will extract information from our data"
   ]
  },
  {
   "cell_type": "code",
   "execution_count": 1,
   "id": "cea7d5a1",
   "metadata": {},
   "outputs": [],
   "source": [
    "# import libraries\n",
    "\n",
    "import numpy as np\n",
    "import pandas as pd\n",
    "import seaborn as sns\n",
    "import matplotlib.pyplot as plt"
   ]
  },
  {
   "cell_type": "code",
   "execution_count": 2,
   "id": "fc686553",
   "metadata": {},
   "outputs": [],
   "source": [
    "# load your data\n",
    "\n",
    "# X_train = pd.read_csv(\"Xtrain.csv\")\n",
    "# y_train = pd.read_csv(\"ytrain.csv\")\n",
    "# X_test = pd.read_csv(\"Xtest.csv\")"
   ]
  },
  {
   "cell_type": "code",
   "execution_count": 3,
   "id": "1c85fa9d",
   "metadata": {},
   "outputs": [],
   "source": [
    "# shape\n",
    "\n",
    "# X_tarin.shape\n",
    "# y_train.shape"
   ]
  },
  {
   "cell_type": "code",
   "execution_count": 4,
   "id": "bee90606",
   "metadata": {},
   "outputs": [],
   "source": [
    "# merge two datasets into make one\n",
    "\n",
    "# df = pd.concat([X_train,y_train],axis = 1) # here's 1 is concatination through columns\n",
    "\n",
    "# df.sample(15)"
   ]
  },
  {
   "cell_type": "code",
   "execution_count": 5,
   "id": "2937b671",
   "metadata": {},
   "outputs": [],
   "source": [
    "# saving a csv file for training dataset\n",
    "\n",
    "# df.to_csv(\"sastaticket_train.csv\")\n",
    "\n",
    "# saving testing file data in to csv\n",
    "\n",
    "# x_test.sample(250).to_csv(\"sastaticket_test.csv\")"
   ]
  },
  {
   "cell_type": "code",
   "execution_count": 6,
   "id": "c4cd5dd4",
   "metadata": {},
   "outputs": [
    {
     "data": {
      "text/html": [
       "<div>\n",
       "<style scoped>\n",
       "    .dataframe tbody tr th:only-of-type {\n",
       "        vertical-align: middle;\n",
       "    }\n",
       "\n",
       "    .dataframe tbody tr th {\n",
       "        vertical-align: top;\n",
       "    }\n",
       "\n",
       "    .dataframe thead th {\n",
       "        text-align: right;\n",
       "    }\n",
       "</style>\n",
       "<table border=\"1\" class=\"dataframe\">\n",
       "  <thead>\n",
       "    <tr style=\"text-align: right;\">\n",
       "      <th></th>\n",
       "      <th>Unnamed: 0</th>\n",
       "      <th>f1</th>\n",
       "      <th>f2</th>\n",
       "      <th>f3</th>\n",
       "      <th>f4</th>\n",
       "      <th>f5</th>\n",
       "      <th>f6</th>\n",
       "      <th>f7</th>\n",
       "      <th>f8</th>\n",
       "      <th>f9</th>\n",
       "      <th>f10</th>\n",
       "    </tr>\n",
       "  </thead>\n",
       "  <tbody>\n",
       "    <tr>\n",
       "      <th>0</th>\n",
       "      <td>2694449</td>\n",
       "      <td>2021-09-16 12:20:01.578279+00:00</td>\n",
       "      <td>x</td>\n",
       "      <td>y</td>\n",
       "      <td>2021-10-03 04:40:00+00:00</td>\n",
       "      <td>2021-10-03 06:40:00+00:00</td>\n",
       "      <td>omega</td>\n",
       "      <td>True</td>\n",
       "      <td>20.0</td>\n",
       "      <td>1</td>\n",
       "      <td>d-1</td>\n",
       "    </tr>\n",
       "    <tr>\n",
       "      <th>1</th>\n",
       "      <td>3088556</td>\n",
       "      <td>2021-09-18 20:13:13.612131+00:00</td>\n",
       "      <td>x</td>\n",
       "      <td>y</td>\n",
       "      <td>2021-09-23 17:05:00+00:00</td>\n",
       "      <td>2021-09-23 19:05:00+00:00</td>\n",
       "      <td>omega</td>\n",
       "      <td>True</td>\n",
       "      <td>20.0</td>\n",
       "      <td>1</td>\n",
       "      <td>d-5</td>\n",
       "    </tr>\n",
       "    <tr>\n",
       "      <th>2</th>\n",
       "      <td>3914899</td>\n",
       "      <td>2021-09-24 17:53:41.424953+00:00</td>\n",
       "      <td>x</td>\n",
       "      <td>y</td>\n",
       "      <td>2021-11-10 13:00:00+00:00</td>\n",
       "      <td>2021-11-10 15:00:00+00:00</td>\n",
       "      <td>alpha</td>\n",
       "      <td>True</td>\n",
       "      <td>20.0</td>\n",
       "      <td>1</td>\n",
       "      <td>a-9</td>\n",
       "    </tr>\n",
       "    <tr>\n",
       "      <th>3</th>\n",
       "      <td>1139859</td>\n",
       "      <td>2021-09-07 19:39:07.182848+00:00</td>\n",
       "      <td>x</td>\n",
       "      <td>y</td>\n",
       "      <td>2021-09-13 05:00:00+00:00</td>\n",
       "      <td>2021-09-13 06:55:00+00:00</td>\n",
       "      <td>beta</td>\n",
       "      <td>True</td>\n",
       "      <td>40.0</td>\n",
       "      <td>0</td>\n",
       "      <td>b-1</td>\n",
       "    </tr>\n",
       "    <tr>\n",
       "      <th>4</th>\n",
       "      <td>594648</td>\n",
       "      <td>2021-09-05 03:48:20.099555+00:00</td>\n",
       "      <td>x</td>\n",
       "      <td>y</td>\n",
       "      <td>2021-09-22 04:00:00+00:00</td>\n",
       "      <td>2021-09-22 06:00:00+00:00</td>\n",
       "      <td>alpha</td>\n",
       "      <td>True</td>\n",
       "      <td>20.0</td>\n",
       "      <td>1</td>\n",
       "      <td>a-1</td>\n",
       "    </tr>\n",
       "  </tbody>\n",
       "</table>\n",
       "</div>"
      ],
      "text/plain": [
       "   Unnamed: 0                                f1 f2 f3  \\\n",
       "0     2694449  2021-09-16 12:20:01.578279+00:00  x  y   \n",
       "1     3088556  2021-09-18 20:13:13.612131+00:00  x  y   \n",
       "2     3914899  2021-09-24 17:53:41.424953+00:00  x  y   \n",
       "3     1139859  2021-09-07 19:39:07.182848+00:00  x  y   \n",
       "4      594648  2021-09-05 03:48:20.099555+00:00  x  y   \n",
       "\n",
       "                          f4                         f5     f6    f7    f8  \\\n",
       "0  2021-10-03 04:40:00+00:00  2021-10-03 06:40:00+00:00  omega  True  20.0   \n",
       "1  2021-09-23 17:05:00+00:00  2021-09-23 19:05:00+00:00  omega  True  20.0   \n",
       "2  2021-11-10 13:00:00+00:00  2021-11-10 15:00:00+00:00  alpha  True  20.0   \n",
       "3  2021-09-13 05:00:00+00:00  2021-09-13 06:55:00+00:00   beta  True  40.0   \n",
       "4  2021-09-22 04:00:00+00:00  2021-09-22 06:00:00+00:00  alpha  True  20.0   \n",
       "\n",
       "   f9  f10  \n",
       "0   1  d-1  \n",
       "1   1  d-5  \n",
       "2   1  a-9  \n",
       "3   0  b-1  \n",
       "4   1  a-1  "
      ]
     },
     "execution_count": 6,
     "metadata": {},
     "output_type": "execute_result"
    }
   ],
   "source": [
    "df_test = pd.read_csv(r'H:\\DAta Science\\Machine Learning ka chilla\\ML related data\\machinelearning_ka_chilla-master\\Sastaticket_datasets\\sastaticket_test.csv')\n",
    "df_test.head()"
   ]
  },
  {
   "cell_type": "code",
   "execution_count": 7,
   "id": "a754854a",
   "metadata": {},
   "outputs": [
    {
     "data": {
      "text/html": [
       "<div>\n",
       "<style scoped>\n",
       "    .dataframe tbody tr th:only-of-type {\n",
       "        vertical-align: middle;\n",
       "    }\n",
       "\n",
       "    .dataframe tbody tr th {\n",
       "        vertical-align: top;\n",
       "    }\n",
       "\n",
       "    .dataframe thead th {\n",
       "        text-align: right;\n",
       "    }\n",
       "</style>\n",
       "<table border=\"1\" class=\"dataframe\">\n",
       "  <thead>\n",
       "    <tr style=\"text-align: right;\">\n",
       "      <th></th>\n",
       "      <th>Unnamed: 0</th>\n",
       "      <th>Unnamed: 0.1</th>\n",
       "      <th>f1</th>\n",
       "      <th>f2</th>\n",
       "      <th>f3</th>\n",
       "      <th>f4</th>\n",
       "      <th>f5</th>\n",
       "      <th>f6</th>\n",
       "      <th>f7</th>\n",
       "      <th>f8</th>\n",
       "      <th>f9</th>\n",
       "      <th>f10</th>\n",
       "      <th>Unnamed: 0.2</th>\n",
       "      <th>target</th>\n",
       "    </tr>\n",
       "  </thead>\n",
       "  <tbody>\n",
       "    <tr>\n",
       "      <th>0</th>\n",
       "      <td>276919</td>\n",
       "      <td>276919</td>\n",
       "      <td>2021-01-08 12:43:27.828728+00:00</td>\n",
       "      <td>x</td>\n",
       "      <td>y</td>\n",
       "      <td>2021-01-23 05:00:00+00:00</td>\n",
       "      <td>2021-01-23 07:00:00+00:00</td>\n",
       "      <td>gamma</td>\n",
       "      <td>True</td>\n",
       "      <td>0.0</td>\n",
       "      <td>0</td>\n",
       "      <td>c-2</td>\n",
       "      <td>276919</td>\n",
       "      <td>7400.0</td>\n",
       "    </tr>\n",
       "    <tr>\n",
       "      <th>1</th>\n",
       "      <td>12092463</td>\n",
       "      <td>12092463</td>\n",
       "      <td>2021-07-01 04:45:11.397541+00:00</td>\n",
       "      <td>x</td>\n",
       "      <td>y</td>\n",
       "      <td>2021-07-01 13:00:00+00:00</td>\n",
       "      <td>2021-07-01 15:00:00+00:00</td>\n",
       "      <td>alpha</td>\n",
       "      <td>True</td>\n",
       "      <td>35.0</td>\n",
       "      <td>1</td>\n",
       "      <td>a-9</td>\n",
       "      <td>12092463</td>\n",
       "      <td>15377.0</td>\n",
       "    </tr>\n",
       "    <tr>\n",
       "      <th>2</th>\n",
       "      <td>11061788</td>\n",
       "      <td>11061788</td>\n",
       "      <td>2021-06-24 11:28:47.565115+00:00</td>\n",
       "      <td>x</td>\n",
       "      <td>y</td>\n",
       "      <td>2021-07-29 14:00:00+00:00</td>\n",
       "      <td>2021-07-29 16:00:00+00:00</td>\n",
       "      <td>gamma</td>\n",
       "      <td>True</td>\n",
       "      <td>20.0</td>\n",
       "      <td>1</td>\n",
       "      <td>c-4</td>\n",
       "      <td>11061788</td>\n",
       "      <td>6900.0</td>\n",
       "    </tr>\n",
       "    <tr>\n",
       "      <th>3</th>\n",
       "      <td>8799808</td>\n",
       "      <td>8799808</td>\n",
       "      <td>2021-06-05 11:09:48.655927+00:00</td>\n",
       "      <td>x</td>\n",
       "      <td>y</td>\n",
       "      <td>2021-06-09 16:00:00+00:00</td>\n",
       "      <td>2021-06-09 18:00:00+00:00</td>\n",
       "      <td>alpha</td>\n",
       "      <td>True</td>\n",
       "      <td>15.0</td>\n",
       "      <td>1</td>\n",
       "      <td>a-23</td>\n",
       "      <td>8799808</td>\n",
       "      <td>9707.0</td>\n",
       "    </tr>\n",
       "    <tr>\n",
       "      <th>4</th>\n",
       "      <td>16391150</td>\n",
       "      <td>16391150</td>\n",
       "      <td>2021-07-29 09:53:51.065306+00:00</td>\n",
       "      <td>x</td>\n",
       "      <td>y</td>\n",
       "      <td>2021-08-23 05:00:00+00:00</td>\n",
       "      <td>2021-08-23 06:55:00+00:00</td>\n",
       "      <td>beta</td>\n",
       "      <td>True</td>\n",
       "      <td>20.0</td>\n",
       "      <td>0</td>\n",
       "      <td>b-1</td>\n",
       "      <td>16391150</td>\n",
       "      <td>6500.0</td>\n",
       "    </tr>\n",
       "  </tbody>\n",
       "</table>\n",
       "</div>"
      ],
      "text/plain": [
       "   Unnamed: 0  Unnamed: 0.1                                f1 f2 f3  \\\n",
       "0      276919        276919  2021-01-08 12:43:27.828728+00:00  x  y   \n",
       "1    12092463      12092463  2021-07-01 04:45:11.397541+00:00  x  y   \n",
       "2    11061788      11061788  2021-06-24 11:28:47.565115+00:00  x  y   \n",
       "3     8799808       8799808  2021-06-05 11:09:48.655927+00:00  x  y   \n",
       "4    16391150      16391150  2021-07-29 09:53:51.065306+00:00  x  y   \n",
       "\n",
       "                          f4                         f5     f6    f7    f8  \\\n",
       "0  2021-01-23 05:00:00+00:00  2021-01-23 07:00:00+00:00  gamma  True   0.0   \n",
       "1  2021-07-01 13:00:00+00:00  2021-07-01 15:00:00+00:00  alpha  True  35.0   \n",
       "2  2021-07-29 14:00:00+00:00  2021-07-29 16:00:00+00:00  gamma  True  20.0   \n",
       "3  2021-06-09 16:00:00+00:00  2021-06-09 18:00:00+00:00  alpha  True  15.0   \n",
       "4  2021-08-23 05:00:00+00:00  2021-08-23 06:55:00+00:00   beta  True  20.0   \n",
       "\n",
       "   f9   f10  Unnamed: 0.2   target  \n",
       "0   0   c-2        276919   7400.0  \n",
       "1   1   a-9      12092463  15377.0  \n",
       "2   1   c-4      11061788   6900.0  \n",
       "3   1  a-23       8799808   9707.0  \n",
       "4   0   b-1      16391150   6500.0  "
      ]
     },
     "execution_count": 7,
     "metadata": {},
     "output_type": "execute_result"
    }
   ],
   "source": [
    "df_train = pd.read_csv(r'H:\\DAta Science\\Machine Learning ka chilla\\ML related data\\machinelearning_ka_chilla-master\\Sastaticket_datasets\\sastaticket_train.csv')\n",
    "df_train.head()"
   ]
  },
  {
   "cell_type": "code",
   "execution_count": 8,
   "id": "dda8ec95",
   "metadata": {},
   "outputs": [
    {
     "name": "stdout",
     "output_type": "stream",
     "text": [
      "<class 'pandas.core.frame.DataFrame'>\n",
      "RangeIndex: 5000 entries, 0 to 4999\n",
      "Data columns (total 14 columns):\n",
      " #   Column        Non-Null Count  Dtype  \n",
      "---  ------        --------------  -----  \n",
      " 0   Unnamed: 0    5000 non-null   int64  \n",
      " 1   Unnamed: 0.1  5000 non-null   int64  \n",
      " 2   f1            5000 non-null   object \n",
      " 3   f2            5000 non-null   object \n",
      " 4   f3            5000 non-null   object \n",
      " 5   f4            5000 non-null   object \n",
      " 6   f5            5000 non-null   object \n",
      " 7   f6            5000 non-null   object \n",
      " 8   f7            5000 non-null   bool   \n",
      " 9   f8            5000 non-null   float64\n",
      " 10  f9            5000 non-null   int64  \n",
      " 11  f10           5000 non-null   object \n",
      " 12  Unnamed: 0.2  5000 non-null   int64  \n",
      " 13  target        5000 non-null   float64\n",
      "dtypes: bool(1), float64(2), int64(4), object(7)\n",
      "memory usage: 512.8+ KB\n"
     ]
    }
   ],
   "source": [
    "df_train.info()"
   ]
  },
  {
   "cell_type": "code",
   "execution_count": 9,
   "id": "916165ba",
   "metadata": {},
   "outputs": [
    {
     "data": {
      "text/html": [
       "<div>\n",
       "<style scoped>\n",
       "    .dataframe tbody tr th:only-of-type {\n",
       "        vertical-align: middle;\n",
       "    }\n",
       "\n",
       "    .dataframe tbody tr th {\n",
       "        vertical-align: top;\n",
       "    }\n",
       "\n",
       "    .dataframe thead th {\n",
       "        text-align: right;\n",
       "    }\n",
       "</style>\n",
       "<table border=\"1\" class=\"dataframe\">\n",
       "  <thead>\n",
       "    <tr style=\"text-align: right;\">\n",
       "      <th></th>\n",
       "      <th>Unnamed: 0</th>\n",
       "      <th>Unnamed: 0.1</th>\n",
       "      <th>f8</th>\n",
       "      <th>f9</th>\n",
       "      <th>Unnamed: 0.2</th>\n",
       "      <th>target</th>\n",
       "    </tr>\n",
       "  </thead>\n",
       "  <tbody>\n",
       "    <tr>\n",
       "      <th>count</th>\n",
       "      <td>5.000000e+03</td>\n",
       "      <td>5.000000e+03</td>\n",
       "      <td>5000.000000</td>\n",
       "      <td>5000.000000</td>\n",
       "      <td>5.000000e+03</td>\n",
       "      <td>5000.000000</td>\n",
       "    </tr>\n",
       "    <tr>\n",
       "      <th>mean</th>\n",
       "      <td>1.086293e+07</td>\n",
       "      <td>1.086293e+07</td>\n",
       "      <td>22.494400</td>\n",
       "      <td>0.944600</td>\n",
       "      <td>1.086293e+07</td>\n",
       "      <td>10104.351800</td>\n",
       "    </tr>\n",
       "    <tr>\n",
       "      <th>std</th>\n",
       "      <td>6.275456e+06</td>\n",
       "      <td>6.275456e+06</td>\n",
       "      <td>8.887101</td>\n",
       "      <td>0.607951</td>\n",
       "      <td>6.275456e+06</td>\n",
       "      <td>3359.936118</td>\n",
       "    </tr>\n",
       "    <tr>\n",
       "      <th>min</th>\n",
       "      <td>2.499000e+03</td>\n",
       "      <td>2.499000e+03</td>\n",
       "      <td>0.000000</td>\n",
       "      <td>0.000000</td>\n",
       "      <td>2.499000e+03</td>\n",
       "      <td>4990.000000</td>\n",
       "    </tr>\n",
       "    <tr>\n",
       "      <th>25%</th>\n",
       "      <td>5.417290e+06</td>\n",
       "      <td>5.417290e+06</td>\n",
       "      <td>20.000000</td>\n",
       "      <td>1.000000</td>\n",
       "      <td>5.417290e+06</td>\n",
       "      <td>7796.000000</td>\n",
       "    </tr>\n",
       "    <tr>\n",
       "      <th>50%</th>\n",
       "      <td>1.093803e+07</td>\n",
       "      <td>1.093803e+07</td>\n",
       "      <td>20.000000</td>\n",
       "      <td>1.000000</td>\n",
       "      <td>1.093803e+07</td>\n",
       "      <td>9403.000000</td>\n",
       "    </tr>\n",
       "    <tr>\n",
       "      <th>75%</th>\n",
       "      <td>1.621582e+07</td>\n",
       "      <td>1.621582e+07</td>\n",
       "      <td>32.000000</td>\n",
       "      <td>1.000000</td>\n",
       "      <td>1.621582e+07</td>\n",
       "      <td>11245.000000</td>\n",
       "    </tr>\n",
       "    <tr>\n",
       "      <th>max</th>\n",
       "      <td>2.177443e+07</td>\n",
       "      <td>2.177443e+07</td>\n",
       "      <td>45.000000</td>\n",
       "      <td>2.000000</td>\n",
       "      <td>2.177443e+07</td>\n",
       "      <td>33720.000000</td>\n",
       "    </tr>\n",
       "  </tbody>\n",
       "</table>\n",
       "</div>"
      ],
      "text/plain": [
       "         Unnamed: 0  Unnamed: 0.1           f8           f9  Unnamed: 0.2  \\\n",
       "count  5.000000e+03  5.000000e+03  5000.000000  5000.000000  5.000000e+03   \n",
       "mean   1.086293e+07  1.086293e+07    22.494400     0.944600  1.086293e+07   \n",
       "std    6.275456e+06  6.275456e+06     8.887101     0.607951  6.275456e+06   \n",
       "min    2.499000e+03  2.499000e+03     0.000000     0.000000  2.499000e+03   \n",
       "25%    5.417290e+06  5.417290e+06    20.000000     1.000000  5.417290e+06   \n",
       "50%    1.093803e+07  1.093803e+07    20.000000     1.000000  1.093803e+07   \n",
       "75%    1.621582e+07  1.621582e+07    32.000000     1.000000  1.621582e+07   \n",
       "max    2.177443e+07  2.177443e+07    45.000000     2.000000  2.177443e+07   \n",
       "\n",
       "             target  \n",
       "count   5000.000000  \n",
       "mean   10104.351800  \n",
       "std     3359.936118  \n",
       "min     4990.000000  \n",
       "25%     7796.000000  \n",
       "50%     9403.000000  \n",
       "75%    11245.000000  \n",
       "max    33720.000000  "
      ]
     },
     "execution_count": 9,
     "metadata": {},
     "output_type": "execute_result"
    }
   ],
   "source": [
    "df_train.describe()"
   ]
  },
  {
   "cell_type": "code",
   "execution_count": 10,
   "id": "d3db74ff",
   "metadata": {},
   "outputs": [
    {
     "name": "stdout",
     "output_type": "stream",
     "text": [
      "Index(['Unnamed: 0', 'Unnamed: 0.1', 'f1', 'f2', 'f3', 'f4', 'f5', 'f6', 'f7',\n",
      "       'f8', 'f9', 'f10', 'Unnamed: 0.2', 'target'],\n",
      "      dtype='object')\n"
     ]
    }
   ],
   "source": [
    "print(df_train.columns)"
   ]
  },
  {
   "cell_type": "markdown",
   "id": "6c2b2a45",
   "metadata": {},
   "source": [
    "## Finding unique values in categories list"
   ]
  },
  {
   "cell_type": "code",
   "execution_count": 11,
   "id": "c7631c2b",
   "metadata": {
    "scrolled": true
   },
   "outputs": [
    {
     "data": {
      "text/plain": [
       "array(['x'], dtype=object)"
      ]
     },
     "execution_count": 11,
     "metadata": {},
     "output_type": "execute_result"
    }
   ],
   "source": [
    "df_train['f2'].unique()"
   ]
  },
  {
   "cell_type": "code",
   "execution_count": 12,
   "id": "c90210ff",
   "metadata": {},
   "outputs": [
    {
     "name": "stdout",
     "output_type": "stream",
     "text": [
      "['x']\n",
      "---------------------------------------------------------\n",
      "['y']\n",
      "---------------------------------------------------------\n",
      "['gamma' 'alpha' 'beta' 'omega']\n",
      "---------------------------------------------------------\n",
      "[ 0. 35. 20. 15. 32. 40. 45.]\n",
      "---------------------------------------------------------\n",
      "[0 1 2]\n",
      "---------------------------------------------------------\n",
      "['c-2' 'a-9' 'c-4' 'a-23' 'b-1' 'a-5' 'b-9' 'a-7' 'd-1' 'c-6' 'a-1' 'd-5'\n",
      " 'b-69' 'b-19' 'd-3' 'b-319' 'b-369' 'b-67' 'b-73']\n",
      "---------------------------------------------------------\n"
     ]
    }
   ],
   "source": [
    "cat_list = df_train[['f2','f3','f6','f8','f9','f10']]\n",
    "\n",
    "# unique value in each column\n",
    "\n",
    "for i in cat_list:\n",
    "    print(df_train[i].unique())\n",
    "    print(\"---------------------------------------------------------\") # this is separator line"
   ]
  },
  {
   "cell_type": "code",
   "execution_count": 13,
   "id": "2df5faf3",
   "metadata": {},
   "outputs": [],
   "source": [
    "df_train.drop([\"Unnamed: 0\",\"Unnamed: 0.1\",\"Unnamed: 0.2\",\"f2\",'f3','f10'], axis=1, inplace=True)"
   ]
  },
  {
   "cell_type": "code",
   "execution_count": 14,
   "id": "8aa812d3",
   "metadata": {},
   "outputs": [
    {
     "data": {
      "text/html": [
       "<div>\n",
       "<style scoped>\n",
       "    .dataframe tbody tr th:only-of-type {\n",
       "        vertical-align: middle;\n",
       "    }\n",
       "\n",
       "    .dataframe tbody tr th {\n",
       "        vertical-align: top;\n",
       "    }\n",
       "\n",
       "    .dataframe thead th {\n",
       "        text-align: right;\n",
       "    }\n",
       "</style>\n",
       "<table border=\"1\" class=\"dataframe\">\n",
       "  <thead>\n",
       "    <tr style=\"text-align: right;\">\n",
       "      <th></th>\n",
       "      <th>f1</th>\n",
       "      <th>f4</th>\n",
       "      <th>f5</th>\n",
       "      <th>f6</th>\n",
       "      <th>f7</th>\n",
       "      <th>f8</th>\n",
       "      <th>f9</th>\n",
       "      <th>target</th>\n",
       "    </tr>\n",
       "  </thead>\n",
       "  <tbody>\n",
       "    <tr>\n",
       "      <th>0</th>\n",
       "      <td>2021-01-08 12:43:27.828728+00:00</td>\n",
       "      <td>2021-01-23 05:00:00+00:00</td>\n",
       "      <td>2021-01-23 07:00:00+00:00</td>\n",
       "      <td>gamma</td>\n",
       "      <td>True</td>\n",
       "      <td>0.0</td>\n",
       "      <td>0</td>\n",
       "      <td>7400.0</td>\n",
       "    </tr>\n",
       "    <tr>\n",
       "      <th>1</th>\n",
       "      <td>2021-07-01 04:45:11.397541+00:00</td>\n",
       "      <td>2021-07-01 13:00:00+00:00</td>\n",
       "      <td>2021-07-01 15:00:00+00:00</td>\n",
       "      <td>alpha</td>\n",
       "      <td>True</td>\n",
       "      <td>35.0</td>\n",
       "      <td>1</td>\n",
       "      <td>15377.0</td>\n",
       "    </tr>\n",
       "    <tr>\n",
       "      <th>2</th>\n",
       "      <td>2021-06-24 11:28:47.565115+00:00</td>\n",
       "      <td>2021-07-29 14:00:00+00:00</td>\n",
       "      <td>2021-07-29 16:00:00+00:00</td>\n",
       "      <td>gamma</td>\n",
       "      <td>True</td>\n",
       "      <td>20.0</td>\n",
       "      <td>1</td>\n",
       "      <td>6900.0</td>\n",
       "    </tr>\n",
       "    <tr>\n",
       "      <th>3</th>\n",
       "      <td>2021-06-05 11:09:48.655927+00:00</td>\n",
       "      <td>2021-06-09 16:00:00+00:00</td>\n",
       "      <td>2021-06-09 18:00:00+00:00</td>\n",
       "      <td>alpha</td>\n",
       "      <td>True</td>\n",
       "      <td>15.0</td>\n",
       "      <td>1</td>\n",
       "      <td>9707.0</td>\n",
       "    </tr>\n",
       "    <tr>\n",
       "      <th>4</th>\n",
       "      <td>2021-07-29 09:53:51.065306+00:00</td>\n",
       "      <td>2021-08-23 05:00:00+00:00</td>\n",
       "      <td>2021-08-23 06:55:00+00:00</td>\n",
       "      <td>beta</td>\n",
       "      <td>True</td>\n",
       "      <td>20.0</td>\n",
       "      <td>0</td>\n",
       "      <td>6500.0</td>\n",
       "    </tr>\n",
       "  </tbody>\n",
       "</table>\n",
       "</div>"
      ],
      "text/plain": [
       "                                 f1                         f4  \\\n",
       "0  2021-01-08 12:43:27.828728+00:00  2021-01-23 05:00:00+00:00   \n",
       "1  2021-07-01 04:45:11.397541+00:00  2021-07-01 13:00:00+00:00   \n",
       "2  2021-06-24 11:28:47.565115+00:00  2021-07-29 14:00:00+00:00   \n",
       "3  2021-06-05 11:09:48.655927+00:00  2021-06-09 16:00:00+00:00   \n",
       "4  2021-07-29 09:53:51.065306+00:00  2021-08-23 05:00:00+00:00   \n",
       "\n",
       "                          f5     f6    f7    f8  f9   target  \n",
       "0  2021-01-23 07:00:00+00:00  gamma  True   0.0   0   7400.0  \n",
       "1  2021-07-01 15:00:00+00:00  alpha  True  35.0   1  15377.0  \n",
       "2  2021-07-29 16:00:00+00:00  gamma  True  20.0   1   6900.0  \n",
       "3  2021-06-09 18:00:00+00:00  alpha  True  15.0   1   9707.0  \n",
       "4  2021-08-23 06:55:00+00:00   beta  True  20.0   0   6500.0  "
      ]
     },
     "execution_count": 14,
     "metadata": {},
     "output_type": "execute_result"
    }
   ],
   "source": [
    "df_train.head()"
   ]
  },
  {
   "cell_type": "code",
   "execution_count": 15,
   "id": "77e9fb00",
   "metadata": {
    "scrolled": true
   },
   "outputs": [
    {
     "name": "stdout",
     "output_type": "stream",
     "text": [
      "<class 'pandas.core.frame.DataFrame'>\n",
      "RangeIndex: 5000 entries, 0 to 4999\n",
      "Data columns (total 8 columns):\n",
      " #   Column  Non-Null Count  Dtype  \n",
      "---  ------  --------------  -----  \n",
      " 0   f1      5000 non-null   object \n",
      " 1   f4      5000 non-null   object \n",
      " 2   f5      5000 non-null   object \n",
      " 3   f6      5000 non-null   object \n",
      " 4   f7      5000 non-null   bool   \n",
      " 5   f8      5000 non-null   float64\n",
      " 6   f9      5000 non-null   int64  \n",
      " 7   target  5000 non-null   float64\n",
      "dtypes: bool(1), float64(2), int64(1), object(4)\n",
      "memory usage: 278.4+ KB\n"
     ]
    }
   ],
   "source": [
    "df_train.info()"
   ]
  },
  {
   "cell_type": "markdown",
   "id": "10abacc5",
   "metadata": {},
   "source": [
    "### Convert into dataetime objects"
   ]
  },
  {
   "cell_type": "code",
   "execution_count": 16,
   "id": "8a9eacef",
   "metadata": {},
   "outputs": [],
   "source": [
    "from datetime import date,time\n",
    "\n",
    "df_train[\"f1\"] = pd.to_datetime(df_train[\"f1\"])\n",
    "df_train[\"f4\"] = pd.to_datetime(df_train[\"f4\"])\n",
    "df_train[\"f5\"] = pd.to_datetime(df_train[\"f5\"])"
   ]
  },
  {
   "cell_type": "code",
   "execution_count": 17,
   "id": "d4321123",
   "metadata": {},
   "outputs": [
    {
     "name": "stdout",
     "output_type": "stream",
     "text": [
      "<class 'pandas.core.frame.DataFrame'>\n",
      "RangeIndex: 5000 entries, 0 to 4999\n",
      "Data columns (total 8 columns):\n",
      " #   Column  Non-Null Count  Dtype              \n",
      "---  ------  --------------  -----              \n",
      " 0   f1      5000 non-null   datetime64[ns, UTC]\n",
      " 1   f4      5000 non-null   datetime64[ns, UTC]\n",
      " 2   f5      5000 non-null   datetime64[ns, UTC]\n",
      " 3   f6      5000 non-null   object             \n",
      " 4   f7      5000 non-null   bool               \n",
      " 5   f8      5000 non-null   float64            \n",
      " 6   f9      5000 non-null   int64              \n",
      " 7   target  5000 non-null   float64            \n",
      "dtypes: bool(1), datetime64[ns, UTC](3), float64(2), int64(1), object(1)\n",
      "memory usage: 278.4+ KB\n"
     ]
    }
   ],
   "source": [
    "# here the columns converted in to date time\n",
    "\n",
    "df_train.info()"
   ]
  },
  {
   "cell_type": "markdown",
   "id": "8424ee09",
   "metadata": {},
   "source": [
    "### Adding column after Substraction"
   ]
  },
  {
   "cell_type": "code",
   "execution_count": 18,
   "id": "e33d2572",
   "metadata": {},
   "outputs": [],
   "source": [
    "df_train.insert(0,\"time_to_dep(s)\",((df_train['f4'] - df_train[\"f1\"]).astype(\"timedelta64[s]\")),True)\n",
    "df_train.insert(1,\"travel_time(s)\",((df_train['f5'] - df_train[\"f4\"]).astype(\"timedelta64[s]\")),True)"
   ]
  },
  {
   "cell_type": "code",
   "execution_count": 19,
   "id": "b538578c",
   "metadata": {},
   "outputs": [
    {
     "data": {
      "text/html": [
       "<div>\n",
       "<style scoped>\n",
       "    .dataframe tbody tr th:only-of-type {\n",
       "        vertical-align: middle;\n",
       "    }\n",
       "\n",
       "    .dataframe tbody tr th {\n",
       "        vertical-align: top;\n",
       "    }\n",
       "\n",
       "    .dataframe thead th {\n",
       "        text-align: right;\n",
       "    }\n",
       "</style>\n",
       "<table border=\"1\" class=\"dataframe\">\n",
       "  <thead>\n",
       "    <tr style=\"text-align: right;\">\n",
       "      <th></th>\n",
       "      <th>time_to_dep(s)</th>\n",
       "      <th>travel_time(s)</th>\n",
       "      <th>f1</th>\n",
       "      <th>f4</th>\n",
       "      <th>f5</th>\n",
       "      <th>f6</th>\n",
       "      <th>f7</th>\n",
       "      <th>f8</th>\n",
       "      <th>f9</th>\n",
       "      <th>target</th>\n",
       "    </tr>\n",
       "  </thead>\n",
       "  <tbody>\n",
       "    <tr>\n",
       "      <th>0</th>\n",
       "      <td>1268192.0</td>\n",
       "      <td>7200.0</td>\n",
       "      <td>2021-01-08 12:43:27.828728+00:00</td>\n",
       "      <td>2021-01-23 05:00:00+00:00</td>\n",
       "      <td>2021-01-23 07:00:00+00:00</td>\n",
       "      <td>gamma</td>\n",
       "      <td>True</td>\n",
       "      <td>0.0</td>\n",
       "      <td>0</td>\n",
       "      <td>7400.0</td>\n",
       "    </tr>\n",
       "    <tr>\n",
       "      <th>1</th>\n",
       "      <td>29688.0</td>\n",
       "      <td>7200.0</td>\n",
       "      <td>2021-07-01 04:45:11.397541+00:00</td>\n",
       "      <td>2021-07-01 13:00:00+00:00</td>\n",
       "      <td>2021-07-01 15:00:00+00:00</td>\n",
       "      <td>alpha</td>\n",
       "      <td>True</td>\n",
       "      <td>35.0</td>\n",
       "      <td>1</td>\n",
       "      <td>15377.0</td>\n",
       "    </tr>\n",
       "    <tr>\n",
       "      <th>2</th>\n",
       "      <td>3033072.0</td>\n",
       "      <td>7200.0</td>\n",
       "      <td>2021-06-24 11:28:47.565115+00:00</td>\n",
       "      <td>2021-07-29 14:00:00+00:00</td>\n",
       "      <td>2021-07-29 16:00:00+00:00</td>\n",
       "      <td>gamma</td>\n",
       "      <td>True</td>\n",
       "      <td>20.0</td>\n",
       "      <td>1</td>\n",
       "      <td>6900.0</td>\n",
       "    </tr>\n",
       "    <tr>\n",
       "      <th>3</th>\n",
       "      <td>363011.0</td>\n",
       "      <td>7200.0</td>\n",
       "      <td>2021-06-05 11:09:48.655927+00:00</td>\n",
       "      <td>2021-06-09 16:00:00+00:00</td>\n",
       "      <td>2021-06-09 18:00:00+00:00</td>\n",
       "      <td>alpha</td>\n",
       "      <td>True</td>\n",
       "      <td>15.0</td>\n",
       "      <td>1</td>\n",
       "      <td>9707.0</td>\n",
       "    </tr>\n",
       "    <tr>\n",
       "      <th>4</th>\n",
       "      <td>2142368.0</td>\n",
       "      <td>6900.0</td>\n",
       "      <td>2021-07-29 09:53:51.065306+00:00</td>\n",
       "      <td>2021-08-23 05:00:00+00:00</td>\n",
       "      <td>2021-08-23 06:55:00+00:00</td>\n",
       "      <td>beta</td>\n",
       "      <td>True</td>\n",
       "      <td>20.0</td>\n",
       "      <td>0</td>\n",
       "      <td>6500.0</td>\n",
       "    </tr>\n",
       "  </tbody>\n",
       "</table>\n",
       "</div>"
      ],
      "text/plain": [
       "   time_to_dep(s)  travel_time(s)                               f1  \\\n",
       "0       1268192.0          7200.0 2021-01-08 12:43:27.828728+00:00   \n",
       "1         29688.0          7200.0 2021-07-01 04:45:11.397541+00:00   \n",
       "2       3033072.0          7200.0 2021-06-24 11:28:47.565115+00:00   \n",
       "3        363011.0          7200.0 2021-06-05 11:09:48.655927+00:00   \n",
       "4       2142368.0          6900.0 2021-07-29 09:53:51.065306+00:00   \n",
       "\n",
       "                         f4                        f5     f6    f7    f8  f9  \\\n",
       "0 2021-01-23 05:00:00+00:00 2021-01-23 07:00:00+00:00  gamma  True   0.0   0   \n",
       "1 2021-07-01 13:00:00+00:00 2021-07-01 15:00:00+00:00  alpha  True  35.0   1   \n",
       "2 2021-07-29 14:00:00+00:00 2021-07-29 16:00:00+00:00  gamma  True  20.0   1   \n",
       "3 2021-06-09 16:00:00+00:00 2021-06-09 18:00:00+00:00  alpha  True  15.0   1   \n",
       "4 2021-08-23 05:00:00+00:00 2021-08-23 06:55:00+00:00   beta  True  20.0   0   \n",
       "\n",
       "    target  \n",
       "0   7400.0  \n",
       "1  15377.0  \n",
       "2   6900.0  \n",
       "3   9707.0  \n",
       "4   6500.0  "
      ]
     },
     "execution_count": 19,
     "metadata": {},
     "output_type": "execute_result"
    }
   ],
   "source": [
    "df_train.head()"
   ]
  },
  {
   "cell_type": "code",
   "execution_count": 20,
   "id": "53ae7ba3",
   "metadata": {},
   "outputs": [
    {
     "data": {
      "text/plain": [
       "time_to_dep(s)    0\n",
       "travel_time(s)    0\n",
       "f1                0\n",
       "f4                0\n",
       "f5                0\n",
       "f6                0\n",
       "f7                0\n",
       "f8                0\n",
       "f9                0\n",
       "target            0\n",
       "dtype: int64"
      ]
     },
     "execution_count": 20,
     "metadata": {},
     "output_type": "execute_result"
    }
   ],
   "source": [
    "df_train.isnull().sum()"
   ]
  },
  {
   "cell_type": "markdown",
   "id": "f4cfbf80",
   "metadata": {},
   "source": [
    "##### Rename the coluumns"
   ]
  },
  {
   "cell_type": "code",
   "execution_count": 21,
   "id": "9f647b86",
   "metadata": {},
   "outputs": [],
   "source": [
    "# df_train = df_train.rename({\"f12\":\"f1\"})"
   ]
  },
  {
   "cell_type": "markdown",
   "id": "4fe3320e",
   "metadata": {},
   "source": [
    "## here i can \"separate\" continous and ctegoric columns"
   ]
  },
  {
   "cell_type": "code",
   "execution_count": 22,
   "id": "06999904",
   "metadata": {},
   "outputs": [],
   "source": [
    "cat_cols = [\"f6\",\"f7\",'f8',\"f9\"]\n",
    "num_cols = [\"time_to_dep(s)\",\"travel_time(s)\"]"
   ]
  },
  {
   "cell_type": "markdown",
   "id": "3f0940d2",
   "metadata": {},
   "source": [
    "## Plotting"
   ]
  },
  {
   "cell_type": "code",
   "execution_count": 23,
   "id": "6971abb4",
   "metadata": {},
   "outputs": [
    {
     "name": "stderr",
     "output_type": "stream",
     "text": [
      "H:\\download\\Anaconda\\lib\\site-packages\\seaborn\\_decorators.py:36: FutureWarning: Pass the following variable as a keyword arg: x. From version 0.12, the only valid positional argument will be `data`, and passing other arguments without an explicit keyword will result in an error or misinterpretation.\n",
      "  warnings.warn(\n",
      "H:\\download\\Anaconda\\lib\\site-packages\\seaborn\\_decorators.py:36: FutureWarning: Pass the following variable as a keyword arg: x. From version 0.12, the only valid positional argument will be `data`, and passing other arguments without an explicit keyword will result in an error or misinterpretation.\n",
      "  warnings.warn(\n",
      "H:\\download\\Anaconda\\lib\\site-packages\\seaborn\\_decorators.py:36: FutureWarning: Pass the following variable as a keyword arg: x. From version 0.12, the only valid positional argument will be `data`, and passing other arguments without an explicit keyword will result in an error or misinterpretation.\n",
      "  warnings.warn(\n",
      "H:\\download\\Anaconda\\lib\\site-packages\\seaborn\\_decorators.py:36: FutureWarning: Pass the following variable as a keyword arg: x. From version 0.12, the only valid positional argument will be `data`, and passing other arguments without an explicit keyword will result in an error or misinterpretation.\n",
      "  warnings.warn(\n"
     ]
    },
    {
     "data": {
      "image/png": "[encoded data removed]",
      "text/plain": [
       "<Figure size 1080x576 with 4 Axes>"
      ]
     },
     "metadata": {
      "needs_background": "light"
     },
     "output_type": "display_data"
    }
   ],
   "source": [
    "# Plotting Categorical columns\n",
    "\n",
    "c = 1\n",
    "plt.figure(figsize=(15,8))\n",
    "\n",
    "for i in cat_cols:\n",
    "    plt.subplot(2,2,c)\n",
    "    sns.countplot(df_train[i])\n",
    "    plt.xticks(rotation = 90)\n",
    "    plt.tight_layout(pad = 3.0)\n",
    "    c = c+1\n",
    "plt.show()"
   ]
  },
  {
   "cell_type": "code",
   "execution_count": 24,
   "id": "86c84fad",
   "metadata": {
    "scrolled": true
   },
   "outputs": [
    {
     "name": "stderr",
     "output_type": "stream",
     "text": [
      "H:\\download\\Anaconda\\lib\\site-packages\\seaborn\\distributions.py:2619: FutureWarning: `distplot` is a deprecated function and will be removed in a future version. Please adapt your code to use either `displot` (a figure-level function with similar flexibility) or `histplot` (an axes-level function for histograms).\n",
      "  warnings.warn(msg, FutureWarning)\n",
      "H:\\download\\Anaconda\\lib\\site-packages\\seaborn\\distributions.py:2619: FutureWarning: `distplot` is a deprecated function and will be removed in a future version. Please adapt your code to use either `displot` (a figure-level function with similar flexibility) or `histplot` (an axes-level function for histograms).\n",
      "  warnings.warn(msg, FutureWarning)\n"
     ]
    },
    {
     "data": {
      "image/png": "[encoded data removed]",
      "text/plain": [
       "<Figure size 1440x2880 with 2 Axes>"
      ]
     },
     "metadata": {
      "needs_background": "light"
     },
     "output_type": "display_data"
    }
   ],
   "source": [
    "# Plotting Continous/Numerical columns\n",
    "\n",
    "c = 1\n",
    "plt.figure(figsize=(20,40))\n",
    "\n",
    "for i in num_cols:\n",
    "    plt.subplot(6,3,c)\n",
    "    sns.distplot(df_train[i])\n",
    "    c = c+1\n",
    "plt.show()"
   ]
  },
  {
   "cell_type": "code",
   "execution_count": 25,
   "id": "d3e25c66",
   "metadata": {},
   "outputs": [
    {
     "name": "stderr",
     "output_type": "stream",
     "text": [
      "H:\\download\\Anaconda\\lib\\site-packages\\seaborn\\distributions.py:2619: FutureWarning: `distplot` is a deprecated function and will be removed in a future version. Please adapt your code to use either `displot` (a figure-level function with similar flexibility) or `histplot` (an axes-level function for histograms).\n",
      "  warnings.warn(msg, FutureWarning)\n",
      "H:\\download\\Anaconda\\lib\\site-packages\\seaborn\\_decorators.py:36: FutureWarning: Pass the following variable as a keyword arg: x. From version 0.12, the only valid positional argument will be `data`, and passing other arguments without an explicit keyword will result in an error or misinterpretation.\n",
      "  warnings.warn(\n"
     ]
    },
    {
     "data": {
      "text/plain": [
       "<AxesSubplot:xlabel='target', ylabel='Density'>"
      ]
     },
     "execution_count": 25,
     "metadata": {},
     "output_type": "execute_result"
    },
    {
     "data": {
      "image/png": "[encoded data removed]",
      "text/plain": [
       "<Figure size 432x288 with 1 Axes>"
      ]
     },
     "metadata": {
      "needs_background": "light"
     },
     "output_type": "display_data"
    }
   ],
   "source": [
    "sns.distplot(df_train[\"target\"])\n",
    "sns.boxplot(df_train[\"target\"])"
   ]
  },
  {
   "cell_type": "code",
   "execution_count": 26,
   "id": "d4716cc8",
   "metadata": {},
   "outputs": [
    {
     "name": "stderr",
     "output_type": "stream",
     "text": [
      "H:\\download\\Anaconda\\lib\\site-packages\\seaborn\\distributions.py:2619: FutureWarning: `distplot` is a deprecated function and will be removed in a future version. Please adapt your code to use either `displot` (a figure-level function with similar flexibility) or `histplot` (an axes-level function for histograms).\n",
      "  warnings.warn(msg, FutureWarning)\n"
     ]
    },
    {
     "data": {
      "text/plain": [
       "<AxesSubplot:xlabel='target', ylabel='Density'>"
      ]
     },
     "execution_count": 26,
     "metadata": {},
     "output_type": "execute_result"
    },
    {
     "data": {
      "image/png": "[encoded data removed]",
      "text/plain": [
       "<Figure size 432x288 with 1 Axes>"
      ]
     },
     "metadata": {
      "needs_background": "light"
     },
     "output_type": "display_data"
    }
   ],
   "source": [
    "# target\n",
    "\n",
    "sns.distplot(df_train[\"target\"])"
   ]
  },
  {
   "cell_type": "code",
   "execution_count": 27,
   "id": "9415819e",
   "metadata": {},
   "outputs": [
    {
     "name": "stderr",
     "output_type": "stream",
     "text": [
      "H:\\download\\Anaconda\\lib\\site-packages\\seaborn\\_decorators.py:36: FutureWarning: Pass the following variable as a keyword arg: x. From version 0.12, the only valid positional argument will be `data`, and passing other arguments without an explicit keyword will result in an error or misinterpretation.\n",
      "  warnings.warn(\n"
     ]
    },
    {
     "data": {
      "text/plain": [
       "<AxesSubplot:xlabel='target'>"
      ]
     },
     "execution_count": 27,
     "metadata": {},
     "output_type": "execute_result"
    },
    {
     "data": {
      "image/png": "[encoded data removed]",
      "text/plain": [
       "<Figure size 432x288 with 1 Axes>"
      ]
     },
     "metadata": {
      "needs_background": "light"
     },
     "output_type": "display_data"
    }
   ],
   "source": [
    "sns.boxplot(df_train[\"target\"])"
   ]
  },
  {
   "cell_type": "markdown",
   "id": "0907be8b",
   "metadata": {},
   "source": [
    "# Outlier Removal          Task"
   ]
  },
  {
   "cell_type": "code",
   "execution_count": null,
   "id": "24bb0ee0",
   "metadata": {},
   "outputs": [],
   "source": []
  },
  {
   "cell_type": "code",
   "execution_count": null,
   "id": "c6d3b479",
   "metadata": {},
   "outputs": [],
   "source": []
  },
  {
   "cell_type": "code",
   "execution_count": null,
   "id": "46de46c4",
   "metadata": {},
   "outputs": [],
   "source": []
  },
  {
   "cell_type": "markdown",
   "id": "751ebdc5",
   "metadata": {},
   "source": [
    "## Skew and Kurtosis"
   ]
  },
  {
   "cell_type": "code",
   "execution_count": 28,
   "id": "99ac2205",
   "metadata": {},
   "outputs": [
    {
     "name": "stderr",
     "output_type": "stream",
     "text": [
      "C:\\Users\\eAgLe\\AppData\\Local\\Temp/ipykernel_8596/1035533876.py:1: FutureWarning: Dropping of nuisance columns in DataFrame reductions (with 'numeric_only=None') is deprecated; in a future version this will raise TypeError.  Select only valid columns before calling the reduction.\n",
      "  df_train.skew()\n"
     ]
    },
    {
     "data": {
      "text/plain": [
       "time_to_dep(s)     3.703644\n",
       "travel_time(s)     1.319374\n",
       "f7               -11.660949\n",
       "f8                 0.418300\n",
       "f9                 0.027547\n",
       "target             2.056345\n",
       "dtype: float64"
      ]
     },
     "execution_count": 28,
     "metadata": {},
     "output_type": "execute_result"
    }
   ],
   "source": [
    "df_train.skew()"
   ]
  },
  {
   "cell_type": "code",
   "execution_count": 29,
   "id": "9f03035e",
   "metadata": {},
   "outputs": [
    {
     "name": "stderr",
     "output_type": "stream",
     "text": [
      "C:\\Users\\eAgLe\\AppData\\Local\\Temp/ipykernel_8596/3332348123.py:1: FutureWarning: Dropping of nuisance columns in DataFrame reductions (with 'numeric_only=None') is deprecated; in a future version this will raise TypeError.  Select only valid columns before calling the reduction.\n",
      "  df_train.kurtosis()\n"
     ]
    },
    {
     "data": {
      "text/plain": [
       "time_to_dep(s)     20.796049\n",
       "travel_time(s)      5.504109\n",
       "f7                134.031335\n",
       "f8                  0.046374\n",
       "f9                 -0.310364\n",
       "target              6.344666\n",
       "dtype: float64"
      ]
     },
     "execution_count": 29,
     "metadata": {},
     "output_type": "execute_result"
    }
   ],
   "source": [
    "df_train.kurtosis()"
   ]
  },
  {
   "cell_type": "code",
   "execution_count": 30,
   "id": "2c060000",
   "metadata": {},
   "outputs": [
    {
     "name": "stdout",
     "output_type": "stream",
     "text": [
      "time_to_dep(s)     3.703644\n",
      "travel_time(s)     1.319374\n",
      "f7               -11.660949\n",
      "f8                 0.418300\n",
      "f9                 0.027547\n",
      "target             2.056345\n",
      "dtype: float64\n",
      "---------------------------------\n",
      "time_to_dep(s)     20.796049\n",
      "travel_time(s)      5.504109\n",
      "f7                134.031335\n",
      "f8                  0.046374\n",
      "f9                 -0.310364\n",
      "target              6.344666\n",
      "dtype: float64\n"
     ]
    },
    {
     "name": "stderr",
     "output_type": "stream",
     "text": [
      "C:\\Users\\eAgLe\\AppData\\Local\\Temp/ipykernel_8596/752440424.py:1: FutureWarning: Dropping of nuisance columns in DataFrame reductions (with 'numeric_only=None') is deprecated; in a future version this will raise TypeError.  Select only valid columns before calling the reduction.\n",
      "  print(df_train.skew())\n",
      "C:\\Users\\eAgLe\\AppData\\Local\\Temp/ipykernel_8596/752440424.py:3: FutureWarning: Dropping of nuisance columns in DataFrame reductions (with 'numeric_only=None') is deprecated; in a future version this will raise TypeError.  Select only valid columns before calling the reduction.\n",
      "  print(df_train.kurtosis())\n"
     ]
    }
   ],
   "source": [
    "print(df_train.skew())\n",
    "print(\"---------------------------------\")\n",
    "print(df_train.kurtosis())"
   ]
  },
  {
   "cell_type": "markdown",
   "id": "00500fab",
   "metadata": {},
   "source": [
    "# encoding of variable"
   ]
  },
  {
   "cell_type": "code",
   "execution_count": 31,
   "id": "0c7d9d3e",
   "metadata": {},
   "outputs": [
    {
     "data": {
      "text/html": [
       "<div>\n",
       "<style scoped>\n",
       "    .dataframe tbody tr th:only-of-type {\n",
       "        vertical-align: middle;\n",
       "    }\n",
       "\n",
       "    .dataframe tbody tr th {\n",
       "        vertical-align: top;\n",
       "    }\n",
       "\n",
       "    .dataframe thead th {\n",
       "        text-align: right;\n",
       "    }\n",
       "</style>\n",
       "<table border=\"1\" class=\"dataframe\">\n",
       "  <thead>\n",
       "    <tr style=\"text-align: right;\">\n",
       "      <th></th>\n",
       "      <th>time_to_dep(s)</th>\n",
       "      <th>travel_time(s)</th>\n",
       "      <th>f1</th>\n",
       "      <th>f4</th>\n",
       "      <th>f5</th>\n",
       "      <th>f6</th>\n",
       "      <th>f7</th>\n",
       "      <th>f8</th>\n",
       "      <th>f9</th>\n",
       "      <th>target</th>\n",
       "    </tr>\n",
       "  </thead>\n",
       "  <tbody>\n",
       "    <tr>\n",
       "      <th>0</th>\n",
       "      <td>1268192.0</td>\n",
       "      <td>7200.0</td>\n",
       "      <td>2021-01-08 12:43:27.828728+00:00</td>\n",
       "      <td>2021-01-23 05:00:00+00:00</td>\n",
       "      <td>2021-01-23 07:00:00+00:00</td>\n",
       "      <td>gamma</td>\n",
       "      <td>True</td>\n",
       "      <td>0.0</td>\n",
       "      <td>0</td>\n",
       "      <td>7400.0</td>\n",
       "    </tr>\n",
       "    <tr>\n",
       "      <th>1</th>\n",
       "      <td>29688.0</td>\n",
       "      <td>7200.0</td>\n",
       "      <td>2021-07-01 04:45:11.397541+00:00</td>\n",
       "      <td>2021-07-01 13:00:00+00:00</td>\n",
       "      <td>2021-07-01 15:00:00+00:00</td>\n",
       "      <td>alpha</td>\n",
       "      <td>True</td>\n",
       "      <td>35.0</td>\n",
       "      <td>1</td>\n",
       "      <td>15377.0</td>\n",
       "    </tr>\n",
       "    <tr>\n",
       "      <th>2</th>\n",
       "      <td>3033072.0</td>\n",
       "      <td>7200.0</td>\n",
       "      <td>2021-06-24 11:28:47.565115+00:00</td>\n",
       "      <td>2021-07-29 14:00:00+00:00</td>\n",
       "      <td>2021-07-29 16:00:00+00:00</td>\n",
       "      <td>gamma</td>\n",
       "      <td>True</td>\n",
       "      <td>20.0</td>\n",
       "      <td>1</td>\n",
       "      <td>6900.0</td>\n",
       "    </tr>\n",
       "    <tr>\n",
       "      <th>3</th>\n",
       "      <td>363011.0</td>\n",
       "      <td>7200.0</td>\n",
       "      <td>2021-06-05 11:09:48.655927+00:00</td>\n",
       "      <td>2021-06-09 16:00:00+00:00</td>\n",
       "      <td>2021-06-09 18:00:00+00:00</td>\n",
       "      <td>alpha</td>\n",
       "      <td>True</td>\n",
       "      <td>15.0</td>\n",
       "      <td>1</td>\n",
       "      <td>9707.0</td>\n",
       "    </tr>\n",
       "    <tr>\n",
       "      <th>4</th>\n",
       "      <td>2142368.0</td>\n",
       "      <td>6900.0</td>\n",
       "      <td>2021-07-29 09:53:51.065306+00:00</td>\n",
       "      <td>2021-08-23 05:00:00+00:00</td>\n",
       "      <td>2021-08-23 06:55:00+00:00</td>\n",
       "      <td>beta</td>\n",
       "      <td>True</td>\n",
       "      <td>20.0</td>\n",
       "      <td>0</td>\n",
       "      <td>6500.0</td>\n",
       "    </tr>\n",
       "  </tbody>\n",
       "</table>\n",
       "</div>"
      ],
      "text/plain": [
       "   time_to_dep(s)  travel_time(s)                               f1  \\\n",
       "0       1268192.0          7200.0 2021-01-08 12:43:27.828728+00:00   \n",
       "1         29688.0          7200.0 2021-07-01 04:45:11.397541+00:00   \n",
       "2       3033072.0          7200.0 2021-06-24 11:28:47.565115+00:00   \n",
       "3        363011.0          7200.0 2021-06-05 11:09:48.655927+00:00   \n",
       "4       2142368.0          6900.0 2021-07-29 09:53:51.065306+00:00   \n",
       "\n",
       "                         f4                        f5     f6    f7    f8  f9  \\\n",
       "0 2021-01-23 05:00:00+00:00 2021-01-23 07:00:00+00:00  gamma  True   0.0   0   \n",
       "1 2021-07-01 13:00:00+00:00 2021-07-01 15:00:00+00:00  alpha  True  35.0   1   \n",
       "2 2021-07-29 14:00:00+00:00 2021-07-29 16:00:00+00:00  gamma  True  20.0   1   \n",
       "3 2021-06-09 16:00:00+00:00 2021-06-09 18:00:00+00:00  alpha  True  15.0   1   \n",
       "4 2021-08-23 05:00:00+00:00 2021-08-23 06:55:00+00:00   beta  True  20.0   0   \n",
       "\n",
       "    target  \n",
       "0   7400.0  \n",
       "1  15377.0  \n",
       "2   6900.0  \n",
       "3   9707.0  \n",
       "4   6500.0  "
      ]
     },
     "execution_count": 31,
     "metadata": {},
     "output_type": "execute_result"
    }
   ],
   "source": [
    "df_train.head()"
   ]
  },
  {
   "cell_type": "code",
   "execution_count": 32,
   "id": "2e980228",
   "metadata": {},
   "outputs": [],
   "source": [
    "df_train.drop([\"f1\",'f4','f5'], axis = 1, inplace = True)"
   ]
  },
  {
   "cell_type": "code",
   "execution_count": 33,
   "id": "693542f1",
   "metadata": {},
   "outputs": [
    {
     "data": {
      "text/html": [
       "<div>\n",
       "<style scoped>\n",
       "    .dataframe tbody tr th:only-of-type {\n",
       "        vertical-align: middle;\n",
       "    }\n",
       "\n",
       "    .dataframe tbody tr th {\n",
       "        vertical-align: top;\n",
       "    }\n",
       "\n",
       "    .dataframe thead th {\n",
       "        text-align: right;\n",
       "    }\n",
       "</style>\n",
       "<table border=\"1\" class=\"dataframe\">\n",
       "  <thead>\n",
       "    <tr style=\"text-align: right;\">\n",
       "      <th></th>\n",
       "      <th>time_to_dep(s)</th>\n",
       "      <th>travel_time(s)</th>\n",
       "      <th>f6</th>\n",
       "      <th>f7</th>\n",
       "      <th>f8</th>\n",
       "      <th>f9</th>\n",
       "      <th>target</th>\n",
       "    </tr>\n",
       "  </thead>\n",
       "  <tbody>\n",
       "    <tr>\n",
       "      <th>0</th>\n",
       "      <td>1268192.0</td>\n",
       "      <td>7200.0</td>\n",
       "      <td>gamma</td>\n",
       "      <td>True</td>\n",
       "      <td>0.0</td>\n",
       "      <td>0</td>\n",
       "      <td>7400.0</td>\n",
       "    </tr>\n",
       "    <tr>\n",
       "      <th>1</th>\n",
       "      <td>29688.0</td>\n",
       "      <td>7200.0</td>\n",
       "      <td>alpha</td>\n",
       "      <td>True</td>\n",
       "      <td>35.0</td>\n",
       "      <td>1</td>\n",
       "      <td>15377.0</td>\n",
       "    </tr>\n",
       "    <tr>\n",
       "      <th>2</th>\n",
       "      <td>3033072.0</td>\n",
       "      <td>7200.0</td>\n",
       "      <td>gamma</td>\n",
       "      <td>True</td>\n",
       "      <td>20.0</td>\n",
       "      <td>1</td>\n",
       "      <td>6900.0</td>\n",
       "    </tr>\n",
       "    <tr>\n",
       "      <th>3</th>\n",
       "      <td>363011.0</td>\n",
       "      <td>7200.0</td>\n",
       "      <td>alpha</td>\n",
       "      <td>True</td>\n",
       "      <td>15.0</td>\n",
       "      <td>1</td>\n",
       "      <td>9707.0</td>\n",
       "    </tr>\n",
       "    <tr>\n",
       "      <th>4</th>\n",
       "      <td>2142368.0</td>\n",
       "      <td>6900.0</td>\n",
       "      <td>beta</td>\n",
       "      <td>True</td>\n",
       "      <td>20.0</td>\n",
       "      <td>0</td>\n",
       "      <td>6500.0</td>\n",
       "    </tr>\n",
       "  </tbody>\n",
       "</table>\n",
       "</div>"
      ],
      "text/plain": [
       "   time_to_dep(s)  travel_time(s)     f6    f7    f8  f9   target\n",
       "0       1268192.0          7200.0  gamma  True   0.0   0   7400.0\n",
       "1         29688.0          7200.0  alpha  True  35.0   1  15377.0\n",
       "2       3033072.0          7200.0  gamma  True  20.0   1   6900.0\n",
       "3        363011.0          7200.0  alpha  True  15.0   1   9707.0\n",
       "4       2142368.0          6900.0   beta  True  20.0   0   6500.0"
      ]
     },
     "execution_count": 33,
     "metadata": {},
     "output_type": "execute_result"
    }
   ],
   "source": [
    "df_train.head()"
   ]
  },
  {
   "cell_type": "markdown",
   "id": "c8e4ddcf",
   "metadata": {},
   "source": [
    "# Encoding"
   ]
  },
  {
   "cell_type": "code",
   "execution_count": 34,
   "id": "b8e67406",
   "metadata": {},
   "outputs": [
    {
     "data": {
      "text/plain": [
       "LabelEncoder()"
      ]
     },
     "execution_count": 34,
     "metadata": {},
     "output_type": "execute_result"
    }
   ],
   "source": [
    "from sklearn.preprocessing import LabelEncoder\n",
    "\n",
    "le = LabelEncoder()\n",
    "le"
   ]
  },
  {
   "cell_type": "code",
   "execution_count": 35,
   "id": "653e7243",
   "metadata": {
    "scrolled": true
   },
   "outputs": [
    {
     "data": {
      "text/plain": [
       "array([ 0., 35., 20., 15., 32., 40., 45.])"
      ]
     },
     "execution_count": 35,
     "metadata": {},
     "output_type": "execute_result"
    }
   ],
   "source": [
    "df_train[\"f8\"].unique()"
   ]
  },
  {
   "cell_type": "code",
   "execution_count": 36,
   "id": "31c7f593",
   "metadata": {},
   "outputs": [
    {
     "data": {
      "text/plain": [
       "array([0, 1, 2], dtype=int64)"
      ]
     },
     "execution_count": 36,
     "metadata": {},
     "output_type": "execute_result"
    }
   ],
   "source": [
    "df_train[\"f9\"].unique()"
   ]
  },
  {
   "cell_type": "code",
   "execution_count": 37,
   "id": "1549f5cb",
   "metadata": {},
   "outputs": [],
   "source": [
    "# apply label encoder\n",
    "\n",
    "df_train[\"f6\"] = le.fit_transform(df_train[\"f6\"])\n",
    "df_train[\"f7\"] = le.fit_transform(df_train[\"f7\"])\n",
    "df_train[\"f8\"] = le.fit_transform(df_train[\"f8\"])"
   ]
  },
  {
   "cell_type": "code",
   "execution_count": 38,
   "id": "9fb86f7a",
   "metadata": {},
   "outputs": [
    {
     "data": {
      "text/html": [
       "<div>\n",
       "<style scoped>\n",
       "    .dataframe tbody tr th:only-of-type {\n",
       "        vertical-align: middle;\n",
       "    }\n",
       "\n",
       "    .dataframe tbody tr th {\n",
       "        vertical-align: top;\n",
       "    }\n",
       "\n",
       "    .dataframe thead th {\n",
       "        text-align: right;\n",
       "    }\n",
       "</style>\n",
       "<table border=\"1\" class=\"dataframe\">\n",
       "  <thead>\n",
       "    <tr style=\"text-align: right;\">\n",
       "      <th></th>\n",
       "      <th>time_to_dep(s)</th>\n",
       "      <th>travel_time(s)</th>\n",
       "      <th>f6</th>\n",
       "      <th>f7</th>\n",
       "      <th>f8</th>\n",
       "      <th>f9</th>\n",
       "      <th>target</th>\n",
       "    </tr>\n",
       "  </thead>\n",
       "  <tbody>\n",
       "    <tr>\n",
       "      <th>0</th>\n",
       "      <td>1268192.0</td>\n",
       "      <td>7200.0</td>\n",
       "      <td>2</td>\n",
       "      <td>1</td>\n",
       "      <td>0</td>\n",
       "      <td>0</td>\n",
       "      <td>7400.0</td>\n",
       "    </tr>\n",
       "    <tr>\n",
       "      <th>1</th>\n",
       "      <td>29688.0</td>\n",
       "      <td>7200.0</td>\n",
       "      <td>0</td>\n",
       "      <td>1</td>\n",
       "      <td>4</td>\n",
       "      <td>1</td>\n",
       "      <td>15377.0</td>\n",
       "    </tr>\n",
       "    <tr>\n",
       "      <th>2</th>\n",
       "      <td>3033072.0</td>\n",
       "      <td>7200.0</td>\n",
       "      <td>2</td>\n",
       "      <td>1</td>\n",
       "      <td>2</td>\n",
       "      <td>1</td>\n",
       "      <td>6900.0</td>\n",
       "    </tr>\n",
       "    <tr>\n",
       "      <th>3</th>\n",
       "      <td>363011.0</td>\n",
       "      <td>7200.0</td>\n",
       "      <td>0</td>\n",
       "      <td>1</td>\n",
       "      <td>1</td>\n",
       "      <td>1</td>\n",
       "      <td>9707.0</td>\n",
       "    </tr>\n",
       "    <tr>\n",
       "      <th>4</th>\n",
       "      <td>2142368.0</td>\n",
       "      <td>6900.0</td>\n",
       "      <td>1</td>\n",
       "      <td>1</td>\n",
       "      <td>2</td>\n",
       "      <td>0</td>\n",
       "      <td>6500.0</td>\n",
       "    </tr>\n",
       "  </tbody>\n",
       "</table>\n",
       "</div>"
      ],
      "text/plain": [
       "   time_to_dep(s)  travel_time(s)  f6  f7  f8  f9   target\n",
       "0       1268192.0          7200.0   2   1   0   0   7400.0\n",
       "1         29688.0          7200.0   0   1   4   1  15377.0\n",
       "2       3033072.0          7200.0   2   1   2   1   6900.0\n",
       "3        363011.0          7200.0   0   1   1   1   9707.0\n",
       "4       2142368.0          6900.0   1   1   2   0   6500.0"
      ]
     },
     "execution_count": 38,
     "metadata": {},
     "output_type": "execute_result"
    }
   ],
   "source": [
    "df_train.head()"
   ]
  },
  {
   "cell_type": "code",
   "execution_count": 39,
   "id": "8385e5bb",
   "metadata": {},
   "outputs": [
    {
     "data": {
      "text/html": [
       "<div>\n",
       "<style scoped>\n",
       "    .dataframe tbody tr th:only-of-type {\n",
       "        vertical-align: middle;\n",
       "    }\n",
       "\n",
       "    .dataframe tbody tr th {\n",
       "        vertical-align: top;\n",
       "    }\n",
       "\n",
       "    .dataframe thead th {\n",
       "        text-align: right;\n",
       "    }\n",
       "</style>\n",
       "<table border=\"1\" class=\"dataframe\">\n",
       "  <thead>\n",
       "    <tr style=\"text-align: right;\">\n",
       "      <th></th>\n",
       "      <th>time_to_dep(s)</th>\n",
       "      <th>travel_time(s)</th>\n",
       "      <th>f6</th>\n",
       "      <th>f7</th>\n",
       "      <th>f8</th>\n",
       "      <th>f9</th>\n",
       "      <th>target</th>\n",
       "    </tr>\n",
       "  </thead>\n",
       "  <tbody>\n",
       "    <tr>\n",
       "      <th>487</th>\n",
       "      <td>703051.0</td>\n",
       "      <td>7200.0</td>\n",
       "      <td>2</td>\n",
       "      <td>1</td>\n",
       "      <td>2</td>\n",
       "      <td>1</td>\n",
       "      <td>12560.0</td>\n",
       "    </tr>\n",
       "    <tr>\n",
       "      <th>1497</th>\n",
       "      <td>4705503.0</td>\n",
       "      <td>7200.0</td>\n",
       "      <td>3</td>\n",
       "      <td>1</td>\n",
       "      <td>2</td>\n",
       "      <td>1</td>\n",
       "      <td>6870.0</td>\n",
       "    </tr>\n",
       "    <tr>\n",
       "      <th>3940</th>\n",
       "      <td>959687.0</td>\n",
       "      <td>7200.0</td>\n",
       "      <td>0</td>\n",
       "      <td>1</td>\n",
       "      <td>1</td>\n",
       "      <td>1</td>\n",
       "      <td>9045.0</td>\n",
       "    </tr>\n",
       "    <tr>\n",
       "      <th>398</th>\n",
       "      <td>668669.0</td>\n",
       "      <td>7200.0</td>\n",
       "      <td>0</td>\n",
       "      <td>1</td>\n",
       "      <td>1</td>\n",
       "      <td>1</td>\n",
       "      <td>6531.0</td>\n",
       "    </tr>\n",
       "    <tr>\n",
       "      <th>907</th>\n",
       "      <td>60881.0</td>\n",
       "      <td>7200.0</td>\n",
       "      <td>0</td>\n",
       "      <td>1</td>\n",
       "      <td>1</td>\n",
       "      <td>1</td>\n",
       "      <td>6850.0</td>\n",
       "    </tr>\n",
       "    <tr>\n",
       "      <th>3134</th>\n",
       "      <td>403306.0</td>\n",
       "      <td>7200.0</td>\n",
       "      <td>2</td>\n",
       "      <td>1</td>\n",
       "      <td>2</td>\n",
       "      <td>1</td>\n",
       "      <td>12050.0</td>\n",
       "    </tr>\n",
       "    <tr>\n",
       "      <th>3770</th>\n",
       "      <td>22813.0</td>\n",
       "      <td>7200.0</td>\n",
       "      <td>0</td>\n",
       "      <td>1</td>\n",
       "      <td>1</td>\n",
       "      <td>1</td>\n",
       "      <td>7520.0</td>\n",
       "    </tr>\n",
       "    <tr>\n",
       "      <th>2394</th>\n",
       "      <td>276135.0</td>\n",
       "      <td>7200.0</td>\n",
       "      <td>0</td>\n",
       "      <td>1</td>\n",
       "      <td>4</td>\n",
       "      <td>1</td>\n",
       "      <td>7900.0</td>\n",
       "    </tr>\n",
       "    <tr>\n",
       "      <th>3448</th>\n",
       "      <td>4331963.0</td>\n",
       "      <td>7140.0</td>\n",
       "      <td>2</td>\n",
       "      <td>1</td>\n",
       "      <td>2</td>\n",
       "      <td>1</td>\n",
       "      <td>12560.0</td>\n",
       "    </tr>\n",
       "    <tr>\n",
       "      <th>201</th>\n",
       "      <td>1376357.0</td>\n",
       "      <td>7200.0</td>\n",
       "      <td>0</td>\n",
       "      <td>1</td>\n",
       "      <td>1</td>\n",
       "      <td>1</td>\n",
       "      <td>7520.0</td>\n",
       "    </tr>\n",
       "  </tbody>\n",
       "</table>\n",
       "</div>"
      ],
      "text/plain": [
       "      time_to_dep(s)  travel_time(s)  f6  f7  f8  f9   target\n",
       "487         703051.0          7200.0   2   1   2   1  12560.0\n",
       "1497       4705503.0          7200.0   3   1   2   1   6870.0\n",
       "3940        959687.0          7200.0   0   1   1   1   9045.0\n",
       "398         668669.0          7200.0   0   1   1   1   6531.0\n",
       "907          60881.0          7200.0   0   1   1   1   6850.0\n",
       "3134        403306.0          7200.0   2   1   2   1  12050.0\n",
       "3770         22813.0          7200.0   0   1   1   1   7520.0\n",
       "2394        276135.0          7200.0   0   1   4   1   7900.0\n",
       "3448       4331963.0          7140.0   2   1   2   1  12560.0\n",
       "201        1376357.0          7200.0   0   1   1   1   7520.0"
      ]
     },
     "execution_count": 39,
     "metadata": {},
     "output_type": "execute_result"
    }
   ],
   "source": [
    "df_train.sample(10)"
   ]
  },
  {
   "cell_type": "code",
   "execution_count": 40,
   "id": "e737c361",
   "metadata": {},
   "outputs": [
    {
     "data": {
      "text/html": [
       "<div>\n",
       "<style scoped>\n",
       "    .dataframe tbody tr th:only-of-type {\n",
       "        vertical-align: middle;\n",
       "    }\n",
       "\n",
       "    .dataframe tbody tr th {\n",
       "        vertical-align: top;\n",
       "    }\n",
       "\n",
       "    .dataframe thead th {\n",
       "        text-align: right;\n",
       "    }\n",
       "</style>\n",
       "<table border=\"1\" class=\"dataframe\">\n",
       "  <thead>\n",
       "    <tr style=\"text-align: right;\">\n",
       "      <th></th>\n",
       "      <th>time_to_dep(s)</th>\n",
       "      <th>travel_time(s)</th>\n",
       "      <th>f6</th>\n",
       "      <th>f7</th>\n",
       "      <th>f8</th>\n",
       "      <th>f9</th>\n",
       "      <th>target</th>\n",
       "    </tr>\n",
       "  </thead>\n",
       "  <tbody>\n",
       "    <tr>\n",
       "      <th>count</th>\n",
       "      <td>5.000000e+03</td>\n",
       "      <td>5000.000000</td>\n",
       "      <td>5000.000000</td>\n",
       "      <td>5000.000000</td>\n",
       "      <td>5000.000000</td>\n",
       "      <td>5000.000000</td>\n",
       "      <td>5000.000000</td>\n",
       "    </tr>\n",
       "    <tr>\n",
       "      <th>mean</th>\n",
       "      <td>1.349212e+06</td>\n",
       "      <td>7159.836000</td>\n",
       "      <td>0.953400</td>\n",
       "      <td>0.992800</td>\n",
       "      <td>2.292000</td>\n",
       "      <td>0.944600</td>\n",
       "      <td>10104.351800</td>\n",
       "    </tr>\n",
       "    <tr>\n",
       "      <th>std</th>\n",
       "      <td>1.679384e+06</td>\n",
       "      <td>169.613345</td>\n",
       "      <td>0.948371</td>\n",
       "      <td>0.084555</td>\n",
       "      <td>1.247817</td>\n",
       "      <td>0.607951</td>\n",
       "      <td>3359.936118</td>\n",
       "    </tr>\n",
       "    <tr>\n",
       "      <th>min</th>\n",
       "      <td>2.003000e+03</td>\n",
       "      <td>6900.000000</td>\n",
       "      <td>0.000000</td>\n",
       "      <td>0.000000</td>\n",
       "      <td>0.000000</td>\n",
       "      <td>0.000000</td>\n",
       "      <td>4990.000000</td>\n",
       "    </tr>\n",
       "    <tr>\n",
       "      <th>25%</th>\n",
       "      <td>3.606870e+05</td>\n",
       "      <td>7140.000000</td>\n",
       "      <td>0.000000</td>\n",
       "      <td>1.000000</td>\n",
       "      <td>2.000000</td>\n",
       "      <td>1.000000</td>\n",
       "      <td>7796.000000</td>\n",
       "    </tr>\n",
       "    <tr>\n",
       "      <th>50%</th>\n",
       "      <td>8.634945e+05</td>\n",
       "      <td>7200.000000</td>\n",
       "      <td>1.000000</td>\n",
       "      <td>1.000000</td>\n",
       "      <td>2.000000</td>\n",
       "      <td>1.000000</td>\n",
       "      <td>9403.000000</td>\n",
       "    </tr>\n",
       "    <tr>\n",
       "      <th>75%</th>\n",
       "      <td>1.698816e+06</td>\n",
       "      <td>7200.000000</td>\n",
       "      <td>2.000000</td>\n",
       "      <td>1.000000</td>\n",
       "      <td>3.000000</td>\n",
       "      <td>1.000000</td>\n",
       "      <td>11245.000000</td>\n",
       "    </tr>\n",
       "    <tr>\n",
       "      <th>max</th>\n",
       "      <td>1.916464e+07</td>\n",
       "      <td>7800.000000</td>\n",
       "      <td>3.000000</td>\n",
       "      <td>1.000000</td>\n",
       "      <td>6.000000</td>\n",
       "      <td>2.000000</td>\n",
       "      <td>33720.000000</td>\n",
       "    </tr>\n",
       "  </tbody>\n",
       "</table>\n",
       "</div>"
      ],
      "text/plain": [
       "       time_to_dep(s)  travel_time(s)           f6           f7           f8  \\\n",
       "count    5.000000e+03     5000.000000  5000.000000  5000.000000  5000.000000   \n",
       "mean     1.349212e+06     7159.836000     0.953400     0.992800     2.292000   \n",
       "std      1.679384e+06      169.613345     0.948371     0.084555     1.247817   \n",
       "min      2.003000e+03     6900.000000     0.000000     0.000000     0.000000   \n",
       "25%      3.606870e+05     7140.000000     0.000000     1.000000     2.000000   \n",
       "50%      8.634945e+05     7200.000000     1.000000     1.000000     2.000000   \n",
       "75%      1.698816e+06     7200.000000     2.000000     1.000000     3.000000   \n",
       "max      1.916464e+07     7800.000000     3.000000     1.000000     6.000000   \n",
       "\n",
       "                f9        target  \n",
       "count  5000.000000   5000.000000  \n",
       "mean      0.944600  10104.351800  \n",
       "std       0.607951   3359.936118  \n",
       "min       0.000000   4990.000000  \n",
       "25%       1.000000   7796.000000  \n",
       "50%       1.000000   9403.000000  \n",
       "75%       1.000000  11245.000000  \n",
       "max       2.000000  33720.000000  "
      ]
     },
     "execution_count": 40,
     "metadata": {},
     "output_type": "execute_result"
    }
   ],
   "source": [
    "df_train.describe()"
   ]
  },
  {
   "cell_type": "markdown",
   "id": "57114ee0",
   "metadata": {},
   "source": [
    "# Skleran function to scale our data/ Normalize"
   ]
  },
  {
   "cell_type": "code",
   "execution_count": 41,
   "id": "8aac0dae",
   "metadata": {},
   "outputs": [],
   "source": [
    "# from sklearn.preprocessing import StandardScalar\n",
    "\n",
    "# sc = StandardScalar()\n",
    "# df_train[\"time_to_dep(s)\"] = sc.fit_transform(df_train[\"time_to_dep(s)\"])\n",
    "# df_train[\"travel_time(s)\"] = sc.fit_transform(df_train[\"travel_time(s)\"])\n",
    "# df_train[\"target\"] = sc.fit_transform(df_train[\"target\"])"
   ]
  },
  {
   "cell_type": "code",
   "execution_count": 42,
   "id": "a494a544",
   "metadata": {},
   "outputs": [
    {
     "data": {
      "text/plain": [
       "Index(['time_to_dep(s)', 'travel_time(s)', 'f6', 'f7', 'f8', 'f9', 'target'], dtype='object')"
      ]
     },
     "execution_count": 42,
     "metadata": {},
     "output_type": "execute_result"
    }
   ],
   "source": [
    "df_train.columns"
   ]
  },
  {
   "cell_type": "markdown",
   "id": "e3428b73",
   "metadata": {},
   "source": [
    "## Splitting our data into X and y"
   ]
  },
  {
   "cell_type": "code",
   "execution_count": 43,
   "id": "d5b59d94",
   "metadata": {},
   "outputs": [],
   "source": [
    "X = df_train[['time_to_dep(s)', 'travel_time(s)', 'f6', 'f7', 'f8', 'f9']]\n",
    "y = df_train[[\"target\"]]"
   ]
  },
  {
   "cell_type": "code",
   "execution_count": 44,
   "id": "90cf7c71",
   "metadata": {},
   "outputs": [
    {
     "data": {
      "text/html": [
       "<div>\n",
       "<style scoped>\n",
       "    .dataframe tbody tr th:only-of-type {\n",
       "        vertical-align: middle;\n",
       "    }\n",
       "\n",
       "    .dataframe tbody tr th {\n",
       "        vertical-align: top;\n",
       "    }\n",
       "\n",
       "    .dataframe thead th {\n",
       "        text-align: right;\n",
       "    }\n",
       "</style>\n",
       "<table border=\"1\" class=\"dataframe\">\n",
       "  <thead>\n",
       "    <tr style=\"text-align: right;\">\n",
       "      <th></th>\n",
       "      <th>time_to_dep(s)</th>\n",
       "      <th>travel_time(s)</th>\n",
       "      <th>f6</th>\n",
       "      <th>f7</th>\n",
       "      <th>f8</th>\n",
       "      <th>f9</th>\n",
       "    </tr>\n",
       "  </thead>\n",
       "  <tbody>\n",
       "    <tr>\n",
       "      <th>0</th>\n",
       "      <td>1268192.0</td>\n",
       "      <td>7200.0</td>\n",
       "      <td>2</td>\n",
       "      <td>1</td>\n",
       "      <td>0</td>\n",
       "      <td>0</td>\n",
       "    </tr>\n",
       "    <tr>\n",
       "      <th>1</th>\n",
       "      <td>29688.0</td>\n",
       "      <td>7200.0</td>\n",
       "      <td>0</td>\n",
       "      <td>1</td>\n",
       "      <td>4</td>\n",
       "      <td>1</td>\n",
       "    </tr>\n",
       "    <tr>\n",
       "      <th>2</th>\n",
       "      <td>3033072.0</td>\n",
       "      <td>7200.0</td>\n",
       "      <td>2</td>\n",
       "      <td>1</td>\n",
       "      <td>2</td>\n",
       "      <td>1</td>\n",
       "    </tr>\n",
       "    <tr>\n",
       "      <th>3</th>\n",
       "      <td>363011.0</td>\n",
       "      <td>7200.0</td>\n",
       "      <td>0</td>\n",
       "      <td>1</td>\n",
       "      <td>1</td>\n",
       "      <td>1</td>\n",
       "    </tr>\n",
       "    <tr>\n",
       "      <th>4</th>\n",
       "      <td>2142368.0</td>\n",
       "      <td>6900.0</td>\n",
       "      <td>1</td>\n",
       "      <td>1</td>\n",
       "      <td>2</td>\n",
       "      <td>0</td>\n",
       "    </tr>\n",
       "  </tbody>\n",
       "</table>\n",
       "</div>"
      ],
      "text/plain": [
       "   time_to_dep(s)  travel_time(s)  f6  f7  f8  f9\n",
       "0       1268192.0          7200.0   2   1   0   0\n",
       "1         29688.0          7200.0   0   1   4   1\n",
       "2       3033072.0          7200.0   2   1   2   1\n",
       "3        363011.0          7200.0   0   1   1   1\n",
       "4       2142368.0          6900.0   1   1   2   0"
      ]
     },
     "execution_count": 44,
     "metadata": {},
     "output_type": "execute_result"
    }
   ],
   "source": [
    "X.head()"
   ]
  },
  {
   "cell_type": "code",
   "execution_count": 45,
   "id": "d475bd60",
   "metadata": {},
   "outputs": [
    {
     "data": {
      "text/html": [
       "<div>\n",
       "<style scoped>\n",
       "    .dataframe tbody tr th:only-of-type {\n",
       "        vertical-align: middle;\n",
       "    }\n",
       "\n",
       "    .dataframe tbody tr th {\n",
       "        vertical-align: top;\n",
       "    }\n",
       "\n",
       "    .dataframe thead th {\n",
       "        text-align: right;\n",
       "    }\n",
       "</style>\n",
       "<table border=\"1\" class=\"dataframe\">\n",
       "  <thead>\n",
       "    <tr style=\"text-align: right;\">\n",
       "      <th></th>\n",
       "      <th>target</th>\n",
       "    </tr>\n",
       "  </thead>\n",
       "  <tbody>\n",
       "    <tr>\n",
       "      <th>0</th>\n",
       "      <td>7400.0</td>\n",
       "    </tr>\n",
       "    <tr>\n",
       "      <th>1</th>\n",
       "      <td>15377.0</td>\n",
       "    </tr>\n",
       "    <tr>\n",
       "      <th>2</th>\n",
       "      <td>6900.0</td>\n",
       "    </tr>\n",
       "    <tr>\n",
       "      <th>3</th>\n",
       "      <td>9707.0</td>\n",
       "    </tr>\n",
       "    <tr>\n",
       "      <th>4</th>\n",
       "      <td>6500.0</td>\n",
       "    </tr>\n",
       "  </tbody>\n",
       "</table>\n",
       "</div>"
      ],
      "text/plain": [
       "    target\n",
       "0   7400.0\n",
       "1  15377.0\n",
       "2   6900.0\n",
       "3   9707.0\n",
       "4   6500.0"
      ]
     },
     "execution_count": 45,
     "metadata": {},
     "output_type": "execute_result"
    }
   ],
   "source": [
    "y.head()"
   ]
  },
  {
   "cell_type": "markdown",
   "id": "6f949f45",
   "metadata": {},
   "source": [
    "# ML Modeling"
   ]
  },
  {
   "cell_type": "markdown",
   "id": "39de40ca",
   "metadata": {},
   "source": [
    "#### Regression Pipeline and algos"
   ]
  },
  {
   "cell_type": "code",
   "execution_count": 46,
   "id": "125bba8e",
   "metadata": {},
   "outputs": [],
   "source": [
    "from sklearn.linear_model import LinearRegression\n",
    "from sklearn.tree import DecisionTreeRegressor\n",
    "from sklearn.svm import SVR\n",
    "from sklearn.neighbors import KNeighborsRegressor\n",
    "from sklearn.model_selection import train_test_split\n",
    "from sklearn.metrics import r2_score, mean_absolute_error, mean_squared_error"
   ]
  },
  {
   "cell_type": "code",
   "execution_count": 47,
   "id": "a11163ef",
   "metadata": {},
   "outputs": [],
   "source": [
    "# root mean square error\n",
    "\n",
    "# rms = mean_absolute_error(y_test, y_pred, squared=False)"
   ]
  },
  {
   "cell_type": "code",
   "execution_count": 48,
   "id": "7f0f5463",
   "metadata": {},
   "outputs": [],
   "source": [
    "# Shoten the name\n",
    "\n",
    "lr = LinearRegression()\n",
    "dt = DecisionTreeRegressor()\n",
    "svr = SVR()\n",
    "knn = KNeighborsRegressor()"
   ]
  },
  {
   "cell_type": "code",
   "execution_count": 49,
   "id": "5340c199",
   "metadata": {},
   "outputs": [
    {
     "name": "stdout",
     "output_type": "stream",
     "text": [
      "LinearRegression()\n",
      "R2 Score is =  0.08245769682272552\n",
      "mean_absolute_error is =  2175.6552919422875\n",
      "mean_squared_error is =  9604880.48361756\n",
      "RMSE is =  3099.174161549744\n",
      "-----------------------------------------------------------------------\n"
     ]
    },
    {
     "name": "stderr",
     "output_type": "stream",
     "text": [
      "H:\\download\\Anaconda\\lib\\site-packages\\sklearn\\utils\\validation.py:63: DataConversionWarning: A column-vector y was passed when a 1d array was expected. Please change the shape of y to (n_samples, ), for example using ravel().\n",
      "  return f(*args, **kwargs)\n"
     ]
    },
    {
     "name": "stdout",
     "output_type": "stream",
     "text": [
      "SVR()\n",
      "R2 Score is =  -0.06121290745272212\n",
      "mean_absolute_error is =  2234.394635530172\n",
      "mean_squared_error is =  11108831.830924733\n",
      "RMSE is =  3332.991423770054\n",
      "-----------------------------------------------------------------------\n"
     ]
    }
   ],
   "source": [
    "# model loop\n",
    "\n",
    "X_train, X_test, y_train, y_test = train_test_split(X , y, test_size = 0.2, random_state = 42)\n",
    "\n",
    "for i in [lr,dt,svr,knn]:                   # read all models\n",
    "    i.fit(X_train,y_train)                  # Fitting our models\n",
    "    pred = i.predict(X_test)                # Predict\n",
    "    test_score = r2_score(y_test,pred)      #test score\n",
    "    train_score = r2_score(y_train,i.predict(X_train))    #train score\n",
    "    if abs(train_score - test_score) <= 0.1:\n",
    "        print(i)\n",
    "        print(\"R2 Score is = \",r2_score(y_test,pred))\n",
    "        print(\"mean_absolute_error is = \",mean_absolute_error(y_test,pred))\n",
    "        print(\"mean_squared_error is = \",mean_squared_error(y_test,pred))\n",
    "        print(\"RMSE is = \",mean_squared_error(y_test , pred, squared = False))\n",
    "        print(\"-----------------------------------------------------------------------\")"
   ]
  },
  {
   "cell_type": "code",
   "execution_count": 50,
   "id": "c979014e",
   "metadata": {},
   "outputs": [
    {
     "name": "stdout",
     "output_type": "stream",
     "text": [
      "LinearRegression()\n",
      "R2 Score is =  0.09822271834361607\n",
      "mean_absolute_error is =  2205.5586715455734\n",
      "mean_squared_error is =  10163929.820282144\n",
      "RMSE is =  3188.0918776412555\n",
      "-----------------------------------------------------------------------\n"
     ]
    },
    {
     "name": "stderr",
     "output_type": "stream",
     "text": [
      "H:\\download\\Anaconda\\lib\\site-packages\\sklearn\\utils\\validation.py:63: DataConversionWarning: A column-vector y was passed when a 1d array was expected. Please change the shape of y to (n_samples, ), for example using ravel().\n",
      "  return f(*args, **kwargs)\n"
     ]
    },
    {
     "name": "stdout",
     "output_type": "stream",
     "text": [
      "SVR()\n",
      "R2 Score is =  -0.06361271052849027\n",
      "mean_absolute_error is =  2285.529993580401\n",
      "mean_squared_error is =  11987976.594303807\n",
      "RMSE is =  3462.365751087514\n",
      "-----------------------------------------------------------------------\n"
     ]
    }
   ],
   "source": [
    "#here i can split data by 70/30\n",
    "X_train, X_test, y_train, y_test = train_test_split(X , y, test_size = 0.3, random_state = 42)\n",
    "\n",
    "for i in [lr,dt,svr,knn]:                   # read all models\n",
    "    i.fit(X_train,y_train)                  # Fitting our models\n",
    "    pred = i.predict(X_test)                # Predict\n",
    "    test_score = r2_score(y_test,pred)      #test score\n",
    "    train_score = r2_score(y_train,i.predict(X_train))    #train score\n",
    "    if abs(train_score - test_score) <= 0.1:\n",
    "        print(i)\n",
    "        print(\"R2 Score is = \",r2_score(y_test,pred))\n",
    "        print(\"mean_absolute_error is = \",mean_absolute_error(y_test,pred))\n",
    "        print(\"mean_squared_error is = \",mean_squared_error(y_test,pred))\n",
    "        print(\"RMSE is = \",mean_squared_error(y_test , pred, squared = False))\n",
    "        print(\"-----------------------------------------------------------------------\")"
   ]
  },
  {
   "cell_type": "markdown",
   "id": "f68074c2",
   "metadata": {},
   "source": [
    "# Final data Prediction"
   ]
  },
  {
   "cell_type": "code",
   "execution_count": 51,
   "id": "2de4d1d9",
   "metadata": {},
   "outputs": [
    {
     "data": {
      "text/plain": [
       "LinearRegression()"
      ]
     },
     "execution_count": 51,
     "metadata": {},
     "output_type": "execute_result"
    }
   ],
   "source": [
    "lr = LinearRegression()\n",
    "lr.fit(X,y)"
   ]
  },
  {
   "cell_type": "code",
   "execution_count": 52,
   "id": "3a0c1f22",
   "metadata": {},
   "outputs": [
    {
     "ename": "ValueError",
     "evalue": "could not convert string to float: '2021-09-16 12:20:01.578279+00:00'",
     "output_type": "error",
     "traceback": [
      "\u001b[1;31m---------------------------------------------------------------------------\u001b[0m",
      "\u001b[1;31mValueError\u001b[0m                                Traceback (most recent call last)",
      "\u001b[1;32m~\\AppData\\Local\\Temp/ipykernel_8596/1339937800.py\u001b[0m in \u001b[0;36m<module>\u001b[1;34m\u001b[0m\n\u001b[1;32m----> 1\u001b[1;33m \u001b[0mlr\u001b[0m\u001b[1;33m.\u001b[0m\u001b[0mpredict\u001b[0m\u001b[1;33m(\u001b[0m\u001b[0mdf_test\u001b[0m\u001b[1;33m)\u001b[0m\u001b[1;33m\u001b[0m\u001b[1;33m\u001b[0m\u001b[0m\n\u001b[0m",
      "\u001b[1;32mH:\\download\\Anaconda\\lib\\site-packages\\sklearn\\linear_model\\_base.py\u001b[0m in \u001b[0;36mpredict\u001b[1;34m(self, X)\u001b[0m\n\u001b[0;32m    236\u001b[0m             \u001b[0mReturns\u001b[0m \u001b[0mpredicted\u001b[0m \u001b[0mvalues\u001b[0m\u001b[1;33m.\u001b[0m\u001b[1;33m\u001b[0m\u001b[1;33m\u001b[0m\u001b[0m\n\u001b[0;32m    237\u001b[0m         \"\"\"\n\u001b[1;32m--> 238\u001b[1;33m         \u001b[1;32mreturn\u001b[0m \u001b[0mself\u001b[0m\u001b[1;33m.\u001b[0m\u001b[0m_decision_function\u001b[0m\u001b[1;33m(\u001b[0m\u001b[0mX\u001b[0m\u001b[1;33m)\u001b[0m\u001b[1;33m\u001b[0m\u001b[1;33m\u001b[0m\u001b[0m\n\u001b[0m\u001b[0;32m    239\u001b[0m \u001b[1;33m\u001b[0m\u001b[0m\n\u001b[0;32m    240\u001b[0m     \u001b[0m_preprocess_data\u001b[0m \u001b[1;33m=\u001b[0m \u001b[0mstaticmethod\u001b[0m\u001b[1;33m(\u001b[0m\u001b[0m_preprocess_data\u001b[0m\u001b[1;33m)\u001b[0m\u001b[1;33m\u001b[0m\u001b[1;33m\u001b[0m\u001b[0m\n",
      "\u001b[1;32mH:\\download\\Anaconda\\lib\\site-packages\\sklearn\\linear_model\\_base.py\u001b[0m in \u001b[0;36m_decision_function\u001b[1;34m(self, X)\u001b[0m\n\u001b[0;32m    218\u001b[0m         \u001b[0mcheck_is_fitted\u001b[0m\u001b[1;33m(\u001b[0m\u001b[0mself\u001b[0m\u001b[1;33m)\u001b[0m\u001b[1;33m\u001b[0m\u001b[1;33m\u001b[0m\u001b[0m\n\u001b[0;32m    219\u001b[0m \u001b[1;33m\u001b[0m\u001b[0m\n\u001b[1;32m--> 220\u001b[1;33m         \u001b[0mX\u001b[0m \u001b[1;33m=\u001b[0m \u001b[0mcheck_array\u001b[0m\u001b[1;33m(\u001b[0m\u001b[0mX\u001b[0m\u001b[1;33m,\u001b[0m \u001b[0maccept_sparse\u001b[0m\u001b[1;33m=\u001b[0m\u001b[1;33m[\u001b[0m\u001b[1;34m'csr'\u001b[0m\u001b[1;33m,\u001b[0m \u001b[1;34m'csc'\u001b[0m\u001b[1;33m,\u001b[0m \u001b[1;34m'coo'\u001b[0m\u001b[1;33m]\u001b[0m\u001b[1;33m)\u001b[0m\u001b[1;33m\u001b[0m\u001b[1;33m\u001b[0m\u001b[0m\n\u001b[0m\u001b[0;32m    221\u001b[0m         return safe_sparse_dot(X, self.coef_.T,\n\u001b[0;32m    222\u001b[0m                                dense_output=True) + self.intercept_\n",
      "\u001b[1;32mH:\\download\\Anaconda\\lib\\site-packages\\sklearn\\utils\\validation.py\u001b[0m in \u001b[0;36minner_f\u001b[1;34m(*args, **kwargs)\u001b[0m\n\u001b[0;32m     61\u001b[0m             \u001b[0mextra_args\u001b[0m \u001b[1;33m=\u001b[0m \u001b[0mlen\u001b[0m\u001b[1;33m(\u001b[0m\u001b[0margs\u001b[0m\u001b[1;33m)\u001b[0m \u001b[1;33m-\u001b[0m \u001b[0mlen\u001b[0m\u001b[1;33m(\u001b[0m\u001b[0mall_args\u001b[0m\u001b[1;33m)\u001b[0m\u001b[1;33m\u001b[0m\u001b[1;33m\u001b[0m\u001b[0m\n\u001b[0;32m     62\u001b[0m             \u001b[1;32mif\u001b[0m \u001b[0mextra_args\u001b[0m \u001b[1;33m<=\u001b[0m \u001b[1;36m0\u001b[0m\u001b[1;33m:\u001b[0m\u001b[1;33m\u001b[0m\u001b[1;33m\u001b[0m\u001b[0m\n\u001b[1;32m---> 63\u001b[1;33m                 \u001b[1;32mreturn\u001b[0m \u001b[0mf\u001b[0m\u001b[1;33m(\u001b[0m\u001b[1;33m*\u001b[0m\u001b[0margs\u001b[0m\u001b[1;33m,\u001b[0m \u001b[1;33m**\u001b[0m\u001b[0mkwargs\u001b[0m\u001b[1;33m)\u001b[0m\u001b[1;33m\u001b[0m\u001b[1;33m\u001b[0m\u001b[0m\n\u001b[0m\u001b[0;32m     64\u001b[0m \u001b[1;33m\u001b[0m\u001b[0m\n\u001b[0;32m     65\u001b[0m             \u001b[1;31m# extra_args > 0\u001b[0m\u001b[1;33m\u001b[0m\u001b[1;33m\u001b[0m\u001b[0m\n",
      "\u001b[1;32mH:\\download\\Anaconda\\lib\\site-packages\\sklearn\\utils\\validation.py\u001b[0m in \u001b[0;36mcheck_array\u001b[1;34m(array, accept_sparse, accept_large_sparse, dtype, order, copy, force_all_finite, ensure_2d, allow_nd, ensure_min_samples, ensure_min_features, estimator)\u001b[0m\n\u001b[0;32m    671\u001b[0m                     \u001b[0marray\u001b[0m \u001b[1;33m=\u001b[0m \u001b[0marray\u001b[0m\u001b[1;33m.\u001b[0m\u001b[0mastype\u001b[0m\u001b[1;33m(\u001b[0m\u001b[0mdtype\u001b[0m\u001b[1;33m,\u001b[0m \u001b[0mcasting\u001b[0m\u001b[1;33m=\u001b[0m\u001b[1;34m\"unsafe\"\u001b[0m\u001b[1;33m,\u001b[0m \u001b[0mcopy\u001b[0m\u001b[1;33m=\u001b[0m\u001b[1;32mFalse\u001b[0m\u001b[1;33m)\u001b[0m\u001b[1;33m\u001b[0m\u001b[1;33m\u001b[0m\u001b[0m\n\u001b[0;32m    672\u001b[0m                 \u001b[1;32melse\u001b[0m\u001b[1;33m:\u001b[0m\u001b[1;33m\u001b[0m\u001b[1;33m\u001b[0m\u001b[0m\n\u001b[1;32m--> 673\u001b[1;33m                     \u001b[0marray\u001b[0m \u001b[1;33m=\u001b[0m \u001b[0mnp\u001b[0m\u001b[1;33m.\u001b[0m\u001b[0masarray\u001b[0m\u001b[1;33m(\u001b[0m\u001b[0marray\u001b[0m\u001b[1;33m,\u001b[0m \u001b[0morder\u001b[0m\u001b[1;33m=\u001b[0m\u001b[0morder\u001b[0m\u001b[1;33m,\u001b[0m \u001b[0mdtype\u001b[0m\u001b[1;33m=\u001b[0m\u001b[0mdtype\u001b[0m\u001b[1;33m)\u001b[0m\u001b[1;33m\u001b[0m\u001b[1;33m\u001b[0m\u001b[0m\n\u001b[0m\u001b[0;32m    674\u001b[0m             \u001b[1;32mexcept\u001b[0m \u001b[0mComplexWarning\u001b[0m \u001b[1;32mas\u001b[0m \u001b[0mcomplex_warning\u001b[0m\u001b[1;33m:\u001b[0m\u001b[1;33m\u001b[0m\u001b[1;33m\u001b[0m\u001b[0m\n\u001b[0;32m    675\u001b[0m                 raise ValueError(\"Complex data not supported\\n\"\n",
      "\u001b[1;32mH:\\download\\Anaconda\\lib\\site-packages\\numpy\\core\\_asarray.py\u001b[0m in \u001b[0;36masarray\u001b[1;34m(a, dtype, order, like)\u001b[0m\n\u001b[0;32m    100\u001b[0m         \u001b[1;32mreturn\u001b[0m \u001b[0m_asarray_with_like\u001b[0m\u001b[1;33m(\u001b[0m\u001b[0ma\u001b[0m\u001b[1;33m,\u001b[0m \u001b[0mdtype\u001b[0m\u001b[1;33m=\u001b[0m\u001b[0mdtype\u001b[0m\u001b[1;33m,\u001b[0m \u001b[0morder\u001b[0m\u001b[1;33m=\u001b[0m\u001b[0morder\u001b[0m\u001b[1;33m,\u001b[0m \u001b[0mlike\u001b[0m\u001b[1;33m=\u001b[0m\u001b[0mlike\u001b[0m\u001b[1;33m)\u001b[0m\u001b[1;33m\u001b[0m\u001b[1;33m\u001b[0m\u001b[0m\n\u001b[0;32m    101\u001b[0m \u001b[1;33m\u001b[0m\u001b[0m\n\u001b[1;32m--> 102\u001b[1;33m     \u001b[1;32mreturn\u001b[0m \u001b[0marray\u001b[0m\u001b[1;33m(\u001b[0m\u001b[0ma\u001b[0m\u001b[1;33m,\u001b[0m \u001b[0mdtype\u001b[0m\u001b[1;33m,\u001b[0m \u001b[0mcopy\u001b[0m\u001b[1;33m=\u001b[0m\u001b[1;32mFalse\u001b[0m\u001b[1;33m,\u001b[0m \u001b[0morder\u001b[0m\u001b[1;33m=\u001b[0m\u001b[0morder\u001b[0m\u001b[1;33m)\u001b[0m\u001b[1;33m\u001b[0m\u001b[1;33m\u001b[0m\u001b[0m\n\u001b[0m\u001b[0;32m    103\u001b[0m \u001b[1;33m\u001b[0m\u001b[0m\n\u001b[0;32m    104\u001b[0m \u001b[1;33m\u001b[0m\u001b[0m\n",
      "\u001b[1;32mH:\\download\\Anaconda\\lib\\site-packages\\pandas\\core\\generic.py\u001b[0m in \u001b[0;36m__array__\u001b[1;34m(self, dtype)\u001b[0m\n\u001b[0;32m   1991\u001b[0m \u001b[1;33m\u001b[0m\u001b[0m\n\u001b[0;32m   1992\u001b[0m     \u001b[1;32mdef\u001b[0m \u001b[0m__array__\u001b[0m\u001b[1;33m(\u001b[0m\u001b[0mself\u001b[0m\u001b[1;33m,\u001b[0m \u001b[0mdtype\u001b[0m\u001b[1;33m:\u001b[0m \u001b[0mNpDtype\u001b[0m \u001b[1;33m|\u001b[0m \u001b[1;32mNone\u001b[0m \u001b[1;33m=\u001b[0m \u001b[1;32mNone\u001b[0m\u001b[1;33m)\u001b[0m \u001b[1;33m->\u001b[0m \u001b[0mnp\u001b[0m\u001b[1;33m.\u001b[0m\u001b[0mndarray\u001b[0m\u001b[1;33m:\u001b[0m\u001b[1;33m\u001b[0m\u001b[1;33m\u001b[0m\u001b[0m\n\u001b[1;32m-> 1993\u001b[1;33m         \u001b[1;32mreturn\u001b[0m \u001b[0mnp\u001b[0m\u001b[1;33m.\u001b[0m\u001b[0masarray\u001b[0m\u001b[1;33m(\u001b[0m\u001b[0mself\u001b[0m\u001b[1;33m.\u001b[0m\u001b[0m_values\u001b[0m\u001b[1;33m,\u001b[0m \u001b[0mdtype\u001b[0m\u001b[1;33m=\u001b[0m\u001b[0mdtype\u001b[0m\u001b[1;33m)\u001b[0m\u001b[1;33m\u001b[0m\u001b[1;33m\u001b[0m\u001b[0m\n\u001b[0m\u001b[0;32m   1994\u001b[0m \u001b[1;33m\u001b[0m\u001b[0m\n\u001b[0;32m   1995\u001b[0m     def __array_wrap__(\n",
      "\u001b[1;32mH:\\download\\Anaconda\\lib\\site-packages\\numpy\\core\\_asarray.py\u001b[0m in \u001b[0;36masarray\u001b[1;34m(a, dtype, order, like)\u001b[0m\n\u001b[0;32m    100\u001b[0m         \u001b[1;32mreturn\u001b[0m \u001b[0m_asarray_with_like\u001b[0m\u001b[1;33m(\u001b[0m\u001b[0ma\u001b[0m\u001b[1;33m,\u001b[0m \u001b[0mdtype\u001b[0m\u001b[1;33m=\u001b[0m\u001b[0mdtype\u001b[0m\u001b[1;33m,\u001b[0m \u001b[0morder\u001b[0m\u001b[1;33m=\u001b[0m\u001b[0morder\u001b[0m\u001b[1;33m,\u001b[0m \u001b[0mlike\u001b[0m\u001b[1;33m=\u001b[0m\u001b[0mlike\u001b[0m\u001b[1;33m)\u001b[0m\u001b[1;33m\u001b[0m\u001b[1;33m\u001b[0m\u001b[0m\n\u001b[0;32m    101\u001b[0m \u001b[1;33m\u001b[0m\u001b[0m\n\u001b[1;32m--> 102\u001b[1;33m     \u001b[1;32mreturn\u001b[0m \u001b[0marray\u001b[0m\u001b[1;33m(\u001b[0m\u001b[0ma\u001b[0m\u001b[1;33m,\u001b[0m \u001b[0mdtype\u001b[0m\u001b[1;33m,\u001b[0m \u001b[0mcopy\u001b[0m\u001b[1;33m=\u001b[0m\u001b[1;32mFalse\u001b[0m\u001b[1;33m,\u001b[0m \u001b[0morder\u001b[0m\u001b[1;33m=\u001b[0m\u001b[0morder\u001b[0m\u001b[1;33m)\u001b[0m\u001b[1;33m\u001b[0m\u001b[1;33m\u001b[0m\u001b[0m\n\u001b[0m\u001b[0;32m    103\u001b[0m \u001b[1;33m\u001b[0m\u001b[0m\n\u001b[0;32m    104\u001b[0m \u001b[1;33m\u001b[0m\u001b[0m\n",
      "\u001b[1;31mValueError\u001b[0m: could not convert string to float: '2021-09-16 12:20:01.578279+00:00'"
     ]
    }
   ],
   "source": [
    "lr.predict(df_test)"
   ]
  },
  {
   "cell_type": "markdown",
   "id": "13cd71f2",
   "metadata": {},
   "source": [
    "# Note:\n",
    "    heres show that we can tranform the test data and select the importnat feature where i can train the model"
   ]
  },
  {
   "cell_type": "code",
   "execution_count": 53,
   "id": "1d8b7f23",
   "metadata": {
    "scrolled": true
   },
   "outputs": [
    {
     "data": {
      "text/html": [
       "<div>\n",
       "<style scoped>\n",
       "    .dataframe tbody tr th:only-of-type {\n",
       "        vertical-align: middle;\n",
       "    }\n",
       "\n",
       "    .dataframe tbody tr th {\n",
       "        vertical-align: top;\n",
       "    }\n",
       "\n",
       "    .dataframe thead th {\n",
       "        text-align: right;\n",
       "    }\n",
       "</style>\n",
       "<table border=\"1\" class=\"dataframe\">\n",
       "  <thead>\n",
       "    <tr style=\"text-align: right;\">\n",
       "      <th></th>\n",
       "      <th>Unnamed: 0</th>\n",
       "      <th>f1</th>\n",
       "      <th>f2</th>\n",
       "      <th>f3</th>\n",
       "      <th>f4</th>\n",
       "      <th>f5</th>\n",
       "      <th>f6</th>\n",
       "      <th>f7</th>\n",
       "      <th>f8</th>\n",
       "      <th>f9</th>\n",
       "      <th>f10</th>\n",
       "    </tr>\n",
       "  </thead>\n",
       "  <tbody>\n",
       "    <tr>\n",
       "      <th>0</th>\n",
       "      <td>2694449</td>\n",
       "      <td>2021-09-16 12:20:01.578279+00:00</td>\n",
       "      <td>x</td>\n",
       "      <td>y</td>\n",
       "      <td>2021-10-03 04:40:00+00:00</td>\n",
       "      <td>2021-10-03 06:40:00+00:00</td>\n",
       "      <td>omega</td>\n",
       "      <td>True</td>\n",
       "      <td>20.0</td>\n",
       "      <td>1</td>\n",
       "      <td>d-1</td>\n",
       "    </tr>\n",
       "    <tr>\n",
       "      <th>1</th>\n",
       "      <td>3088556</td>\n",
       "      <td>2021-09-18 20:13:13.612131+00:00</td>\n",
       "      <td>x</td>\n",
       "      <td>y</td>\n",
       "      <td>2021-09-23 17:05:00+00:00</td>\n",
       "      <td>2021-09-23 19:05:00+00:00</td>\n",
       "      <td>omega</td>\n",
       "      <td>True</td>\n",
       "      <td>20.0</td>\n",
       "      <td>1</td>\n",
       "      <td>d-5</td>\n",
       "    </tr>\n",
       "    <tr>\n",
       "      <th>2</th>\n",
       "      <td>3914899</td>\n",
       "      <td>2021-09-24 17:53:41.424953+00:00</td>\n",
       "      <td>x</td>\n",
       "      <td>y</td>\n",
       "      <td>2021-11-10 13:00:00+00:00</td>\n",
       "      <td>2021-11-10 15:00:00+00:00</td>\n",
       "      <td>alpha</td>\n",
       "      <td>True</td>\n",
       "      <td>20.0</td>\n",
       "      <td>1</td>\n",
       "      <td>a-9</td>\n",
       "    </tr>\n",
       "    <tr>\n",
       "      <th>3</th>\n",
       "      <td>1139859</td>\n",
       "      <td>2021-09-07 19:39:07.182848+00:00</td>\n",
       "      <td>x</td>\n",
       "      <td>y</td>\n",
       "      <td>2021-09-13 05:00:00+00:00</td>\n",
       "      <td>2021-09-13 06:55:00+00:00</td>\n",
       "      <td>beta</td>\n",
       "      <td>True</td>\n",
       "      <td>40.0</td>\n",
       "      <td>0</td>\n",
       "      <td>b-1</td>\n",
       "    </tr>\n",
       "    <tr>\n",
       "      <th>4</th>\n",
       "      <td>594648</td>\n",
       "      <td>2021-09-05 03:48:20.099555+00:00</td>\n",
       "      <td>x</td>\n",
       "      <td>y</td>\n",
       "      <td>2021-09-22 04:00:00+00:00</td>\n",
       "      <td>2021-09-22 06:00:00+00:00</td>\n",
       "      <td>alpha</td>\n",
       "      <td>True</td>\n",
       "      <td>20.0</td>\n",
       "      <td>1</td>\n",
       "      <td>a-1</td>\n",
       "    </tr>\n",
       "  </tbody>\n",
       "</table>\n",
       "</div>"
      ],
      "text/plain": [
       "   Unnamed: 0                                f1 f2 f3  \\\n",
       "0     2694449  2021-09-16 12:20:01.578279+00:00  x  y   \n",
       "1     3088556  2021-09-18 20:13:13.612131+00:00  x  y   \n",
       "2     3914899  2021-09-24 17:53:41.424953+00:00  x  y   \n",
       "3     1139859  2021-09-07 19:39:07.182848+00:00  x  y   \n",
       "4      594648  2021-09-05 03:48:20.099555+00:00  x  y   \n",
       "\n",
       "                          f4                         f5     f6    f7    f8  \\\n",
       "0  2021-10-03 04:40:00+00:00  2021-10-03 06:40:00+00:00  omega  True  20.0   \n",
       "1  2021-09-23 17:05:00+00:00  2021-09-23 19:05:00+00:00  omega  True  20.0   \n",
       "2  2021-11-10 13:00:00+00:00  2021-11-10 15:00:00+00:00  alpha  True  20.0   \n",
       "3  2021-09-13 05:00:00+00:00  2021-09-13 06:55:00+00:00   beta  True  40.0   \n",
       "4  2021-09-22 04:00:00+00:00  2021-09-22 06:00:00+00:00  alpha  True  20.0   \n",
       "\n",
       "   f9  f10  \n",
       "0   1  d-1  \n",
       "1   1  d-5  \n",
       "2   1  a-9  \n",
       "3   0  b-1  \n",
       "4   1  a-1  "
      ]
     },
     "execution_count": 53,
     "metadata": {},
     "output_type": "execute_result"
    }
   ],
   "source": [
    "df_test.head()"
   ]
  },
  {
   "cell_type": "code",
   "execution_count": 54,
   "id": "ada8c605",
   "metadata": {},
   "outputs": [],
   "source": [
    "df_test.drop([\"Unnamed: 0\",\"f2\",'f3','f10'], axis=1, inplace=True)"
   ]
  },
  {
   "cell_type": "code",
   "execution_count": 55,
   "id": "41034b9c",
   "metadata": {},
   "outputs": [
    {
     "data": {
      "text/html": [
       "<div>\n",
       "<style scoped>\n",
       "    .dataframe tbody tr th:only-of-type {\n",
       "        vertical-align: middle;\n",
       "    }\n",
       "\n",
       "    .dataframe tbody tr th {\n",
       "        vertical-align: top;\n",
       "    }\n",
       "\n",
       "    .dataframe thead th {\n",
       "        text-align: right;\n",
       "    }\n",
       "</style>\n",
       "<table border=\"1\" class=\"dataframe\">\n",
       "  <thead>\n",
       "    <tr style=\"text-align: right;\">\n",
       "      <th></th>\n",
       "      <th>f1</th>\n",
       "      <th>f4</th>\n",
       "      <th>f5</th>\n",
       "      <th>f6</th>\n",
       "      <th>f7</th>\n",
       "      <th>f8</th>\n",
       "      <th>f9</th>\n",
       "    </tr>\n",
       "  </thead>\n",
       "  <tbody>\n",
       "    <tr>\n",
       "      <th>0</th>\n",
       "      <td>2021-09-16 12:20:01.578279+00:00</td>\n",
       "      <td>2021-10-03 04:40:00+00:00</td>\n",
       "      <td>2021-10-03 06:40:00+00:00</td>\n",
       "      <td>omega</td>\n",
       "      <td>True</td>\n",
       "      <td>20.0</td>\n",
       "      <td>1</td>\n",
       "    </tr>\n",
       "    <tr>\n",
       "      <th>1</th>\n",
       "      <td>2021-09-18 20:13:13.612131+00:00</td>\n",
       "      <td>2021-09-23 17:05:00+00:00</td>\n",
       "      <td>2021-09-23 19:05:00+00:00</td>\n",
       "      <td>omega</td>\n",
       "      <td>True</td>\n",
       "      <td>20.0</td>\n",
       "      <td>1</td>\n",
       "    </tr>\n",
       "    <tr>\n",
       "      <th>2</th>\n",
       "      <td>2021-09-24 17:53:41.424953+00:00</td>\n",
       "      <td>2021-11-10 13:00:00+00:00</td>\n",
       "      <td>2021-11-10 15:00:00+00:00</td>\n",
       "      <td>alpha</td>\n",
       "      <td>True</td>\n",
       "      <td>20.0</td>\n",
       "      <td>1</td>\n",
       "    </tr>\n",
       "    <tr>\n",
       "      <th>3</th>\n",
       "      <td>2021-09-07 19:39:07.182848+00:00</td>\n",
       "      <td>2021-09-13 05:00:00+00:00</td>\n",
       "      <td>2021-09-13 06:55:00+00:00</td>\n",
       "      <td>beta</td>\n",
       "      <td>True</td>\n",
       "      <td>40.0</td>\n",
       "      <td>0</td>\n",
       "    </tr>\n",
       "    <tr>\n",
       "      <th>4</th>\n",
       "      <td>2021-09-05 03:48:20.099555+00:00</td>\n",
       "      <td>2021-09-22 04:00:00+00:00</td>\n",
       "      <td>2021-09-22 06:00:00+00:00</td>\n",
       "      <td>alpha</td>\n",
       "      <td>True</td>\n",
       "      <td>20.0</td>\n",
       "      <td>1</td>\n",
       "    </tr>\n",
       "  </tbody>\n",
       "</table>\n",
       "</div>"
      ],
      "text/plain": [
       "                                 f1                         f4  \\\n",
       "0  2021-09-16 12:20:01.578279+00:00  2021-10-03 04:40:00+00:00   \n",
       "1  2021-09-18 20:13:13.612131+00:00  2021-09-23 17:05:00+00:00   \n",
       "2  2021-09-24 17:53:41.424953+00:00  2021-11-10 13:00:00+00:00   \n",
       "3  2021-09-07 19:39:07.182848+00:00  2021-09-13 05:00:00+00:00   \n",
       "4  2021-09-05 03:48:20.099555+00:00  2021-09-22 04:00:00+00:00   \n",
       "\n",
       "                          f5     f6    f7    f8  f9  \n",
       "0  2021-10-03 06:40:00+00:00  omega  True  20.0   1  \n",
       "1  2021-09-23 19:05:00+00:00  omega  True  20.0   1  \n",
       "2  2021-11-10 15:00:00+00:00  alpha  True  20.0   1  \n",
       "3  2021-09-13 06:55:00+00:00   beta  True  40.0   0  \n",
       "4  2021-09-22 06:00:00+00:00  alpha  True  20.0   1  "
      ]
     },
     "execution_count": 55,
     "metadata": {},
     "output_type": "execute_result"
    }
   ],
   "source": [
    "df_test.head()"
   ]
  },
  {
   "cell_type": "markdown",
   "id": "8f83a70d",
   "metadata": {},
   "source": [
    "#### Converting the columns in to datetime"
   ]
  },
  {
   "cell_type": "code",
   "execution_count": 56,
   "id": "fd0da0a7",
   "metadata": {},
   "outputs": [],
   "source": [
    "from datetime import date,time\n",
    "\n",
    "df_test[\"f1\"] = pd.to_datetime(df_test[\"f1\"])\n",
    "df_test[\"f4\"] = pd.to_datetime(df_test[\"f4\"])\n",
    "df_test[\"f5\"] = pd.to_datetime(df_test[\"f5\"])"
   ]
  },
  {
   "cell_type": "code",
   "execution_count": 57,
   "id": "21c9f117",
   "metadata": {},
   "outputs": [
    {
     "name": "stdout",
     "output_type": "stream",
     "text": [
      "<class 'pandas.core.frame.DataFrame'>\n",
      "RangeIndex: 250 entries, 0 to 249\n",
      "Data columns (total 7 columns):\n",
      " #   Column  Non-Null Count  Dtype              \n",
      "---  ------  --------------  -----              \n",
      " 0   f1      250 non-null    datetime64[ns, UTC]\n",
      " 1   f4      250 non-null    datetime64[ns, UTC]\n",
      " 2   f5      250 non-null    datetime64[ns, UTC]\n",
      " 3   f6      250 non-null    object             \n",
      " 4   f7      250 non-null    bool               \n",
      " 5   f8      250 non-null    float64            \n",
      " 6   f9      250 non-null    int64              \n",
      "dtypes: bool(1), datetime64[ns, UTC](3), float64(1), int64(1), object(1)\n",
      "memory usage: 12.1+ KB\n"
     ]
    }
   ],
   "source": [
    "df_test.info()"
   ]
  },
  {
   "cell_type": "code",
   "execution_count": 58,
   "id": "410f26fa",
   "metadata": {},
   "outputs": [],
   "source": [
    "df_test.insert(0,\"time_to_dep(s)\",((df_test['f4'] - df_test[\"f1\"]).astype(\"timedelta64[s]\")),True)\n",
    "df_test.insert(1,\"travel_time(s)\",((df_test['f5'] - df_test[\"f4\"]).astype(\"timedelta64[s]\")),True)"
   ]
  },
  {
   "cell_type": "code",
   "execution_count": 59,
   "id": "e261051d",
   "metadata": {},
   "outputs": [
    {
     "data": {
      "text/html": [
       "<div>\n",
       "<style scoped>\n",
       "    .dataframe tbody tr th:only-of-type {\n",
       "        vertical-align: middle;\n",
       "    }\n",
       "\n",
       "    .dataframe tbody tr th {\n",
       "        vertical-align: top;\n",
       "    }\n",
       "\n",
       "    .dataframe thead th {\n",
       "        text-align: right;\n",
       "    }\n",
       "</style>\n",
       "<table border=\"1\" class=\"dataframe\">\n",
       "  <thead>\n",
       "    <tr style=\"text-align: right;\">\n",
       "      <th></th>\n",
       "      <th>time_to_dep(s)</th>\n",
       "      <th>travel_time(s)</th>\n",
       "      <th>f1</th>\n",
       "      <th>f4</th>\n",
       "      <th>f5</th>\n",
       "      <th>f6</th>\n",
       "      <th>f7</th>\n",
       "      <th>f8</th>\n",
       "      <th>f9</th>\n",
       "    </tr>\n",
       "  </thead>\n",
       "  <tbody>\n",
       "    <tr>\n",
       "      <th>0</th>\n",
       "      <td>1441198.0</td>\n",
       "      <td>7200.0</td>\n",
       "      <td>2021-09-16 12:20:01.578279+00:00</td>\n",
       "      <td>2021-10-03 04:40:00+00:00</td>\n",
       "      <td>2021-10-03 06:40:00+00:00</td>\n",
       "      <td>omega</td>\n",
       "      <td>True</td>\n",
       "      <td>20.0</td>\n",
       "      <td>1</td>\n",
       "    </tr>\n",
       "    <tr>\n",
       "      <th>1</th>\n",
       "      <td>420706.0</td>\n",
       "      <td>7200.0</td>\n",
       "      <td>2021-09-18 20:13:13.612131+00:00</td>\n",
       "      <td>2021-09-23 17:05:00+00:00</td>\n",
       "      <td>2021-09-23 19:05:00+00:00</td>\n",
       "      <td>omega</td>\n",
       "      <td>True</td>\n",
       "      <td>20.0</td>\n",
       "      <td>1</td>\n",
       "    </tr>\n",
       "    <tr>\n",
       "      <th>2</th>\n",
       "      <td>4043178.0</td>\n",
       "      <td>7200.0</td>\n",
       "      <td>2021-09-24 17:53:41.424953+00:00</td>\n",
       "      <td>2021-11-10 13:00:00+00:00</td>\n",
       "      <td>2021-11-10 15:00:00+00:00</td>\n",
       "      <td>alpha</td>\n",
       "      <td>True</td>\n",
       "      <td>20.0</td>\n",
       "      <td>1</td>\n",
       "    </tr>\n",
       "    <tr>\n",
       "      <th>3</th>\n",
       "      <td>465652.0</td>\n",
       "      <td>6900.0</td>\n",
       "      <td>2021-09-07 19:39:07.182848+00:00</td>\n",
       "      <td>2021-09-13 05:00:00+00:00</td>\n",
       "      <td>2021-09-13 06:55:00+00:00</td>\n",
       "      <td>beta</td>\n",
       "      <td>True</td>\n",
       "      <td>40.0</td>\n",
       "      <td>0</td>\n",
       "    </tr>\n",
       "    <tr>\n",
       "      <th>4</th>\n",
       "      <td>1469499.0</td>\n",
       "      <td>7200.0</td>\n",
       "      <td>2021-09-05 03:48:20.099555+00:00</td>\n",
       "      <td>2021-09-22 04:00:00+00:00</td>\n",
       "      <td>2021-09-22 06:00:00+00:00</td>\n",
       "      <td>alpha</td>\n",
       "      <td>True</td>\n",
       "      <td>20.0</td>\n",
       "      <td>1</td>\n",
       "    </tr>\n",
       "  </tbody>\n",
       "</table>\n",
       "</div>"
      ],
      "text/plain": [
       "   time_to_dep(s)  travel_time(s)                               f1  \\\n",
       "0       1441198.0          7200.0 2021-09-16 12:20:01.578279+00:00   \n",
       "1        420706.0          7200.0 2021-09-18 20:13:13.612131+00:00   \n",
       "2       4043178.0          7200.0 2021-09-24 17:53:41.424953+00:00   \n",
       "3        465652.0          6900.0 2021-09-07 19:39:07.182848+00:00   \n",
       "4       1469499.0          7200.0 2021-09-05 03:48:20.099555+00:00   \n",
       "\n",
       "                         f4                        f5     f6    f7    f8  f9  \n",
       "0 2021-10-03 04:40:00+00:00 2021-10-03 06:40:00+00:00  omega  True  20.0   1  \n",
       "1 2021-09-23 17:05:00+00:00 2021-09-23 19:05:00+00:00  omega  True  20.0   1  \n",
       "2 2021-11-10 13:00:00+00:00 2021-11-10 15:00:00+00:00  alpha  True  20.0   1  \n",
       "3 2021-09-13 05:00:00+00:00 2021-09-13 06:55:00+00:00   beta  True  40.0   0  \n",
       "4 2021-09-22 04:00:00+00:00 2021-09-22 06:00:00+00:00  alpha  True  20.0   1  "
      ]
     },
     "execution_count": 59,
     "metadata": {},
     "output_type": "execute_result"
    }
   ],
   "source": [
    "df_test.head()"
   ]
  },
  {
   "cell_type": "code",
   "execution_count": 60,
   "id": "e8d3ed81",
   "metadata": {},
   "outputs": [],
   "source": [
    "df_test.drop([\"f1\",'f4','f5'], axis = 1, inplace = True)"
   ]
  },
  {
   "cell_type": "code",
   "execution_count": 61,
   "id": "c82a9032",
   "metadata": {},
   "outputs": [
    {
     "data": {
      "text/html": [
       "<div>\n",
       "<style scoped>\n",
       "    .dataframe tbody tr th:only-of-type {\n",
       "        vertical-align: middle;\n",
       "    }\n",
       "\n",
       "    .dataframe tbody tr th {\n",
       "        vertical-align: top;\n",
       "    }\n",
       "\n",
       "    .dataframe thead th {\n",
       "        text-align: right;\n",
       "    }\n",
       "</style>\n",
       "<table border=\"1\" class=\"dataframe\">\n",
       "  <thead>\n",
       "    <tr style=\"text-align: right;\">\n",
       "      <th></th>\n",
       "      <th>time_to_dep(s)</th>\n",
       "      <th>travel_time(s)</th>\n",
       "      <th>f6</th>\n",
       "      <th>f7</th>\n",
       "      <th>f8</th>\n",
       "      <th>f9</th>\n",
       "    </tr>\n",
       "  </thead>\n",
       "  <tbody>\n",
       "    <tr>\n",
       "      <th>0</th>\n",
       "      <td>1441198.0</td>\n",
       "      <td>7200.0</td>\n",
       "      <td>omega</td>\n",
       "      <td>True</td>\n",
       "      <td>20.0</td>\n",
       "      <td>1</td>\n",
       "    </tr>\n",
       "    <tr>\n",
       "      <th>1</th>\n",
       "      <td>420706.0</td>\n",
       "      <td>7200.0</td>\n",
       "      <td>omega</td>\n",
       "      <td>True</td>\n",
       "      <td>20.0</td>\n",
       "      <td>1</td>\n",
       "    </tr>\n",
       "    <tr>\n",
       "      <th>2</th>\n",
       "      <td>4043178.0</td>\n",
       "      <td>7200.0</td>\n",
       "      <td>alpha</td>\n",
       "      <td>True</td>\n",
       "      <td>20.0</td>\n",
       "      <td>1</td>\n",
       "    </tr>\n",
       "    <tr>\n",
       "      <th>3</th>\n",
       "      <td>465652.0</td>\n",
       "      <td>6900.0</td>\n",
       "      <td>beta</td>\n",
       "      <td>True</td>\n",
       "      <td>40.0</td>\n",
       "      <td>0</td>\n",
       "    </tr>\n",
       "    <tr>\n",
       "      <th>4</th>\n",
       "      <td>1469499.0</td>\n",
       "      <td>7200.0</td>\n",
       "      <td>alpha</td>\n",
       "      <td>True</td>\n",
       "      <td>20.0</td>\n",
       "      <td>1</td>\n",
       "    </tr>\n",
       "  </tbody>\n",
       "</table>\n",
       "</div>"
      ],
      "text/plain": [
       "   time_to_dep(s)  travel_time(s)     f6    f7    f8  f9\n",
       "0       1441198.0          7200.0  omega  True  20.0   1\n",
       "1        420706.0          7200.0  omega  True  20.0   1\n",
       "2       4043178.0          7200.0  alpha  True  20.0   1\n",
       "3        465652.0          6900.0   beta  True  40.0   0\n",
       "4       1469499.0          7200.0  alpha  True  20.0   1"
      ]
     },
     "execution_count": 61,
     "metadata": {},
     "output_type": "execute_result"
    }
   ],
   "source": [
    "df_test.head()"
   ]
  },
  {
   "cell_type": "code",
   "execution_count": 62,
   "id": "2becf4e9",
   "metadata": {},
   "outputs": [
    {
     "data": {
      "text/plain": [
       "LabelEncoder()"
      ]
     },
     "execution_count": 62,
     "metadata": {},
     "output_type": "execute_result"
    }
   ],
   "source": [
    "from sklearn.preprocessing import LabelEncoder\n",
    "\n",
    "le1 = LabelEncoder()\n",
    "le1"
   ]
  },
  {
   "cell_type": "code",
   "execution_count": 63,
   "id": "905ac59e",
   "metadata": {},
   "outputs": [
    {
     "data": {
      "text/plain": [
       "array([20., 40., 15.])"
      ]
     },
     "execution_count": 63,
     "metadata": {},
     "output_type": "execute_result"
    }
   ],
   "source": [
    "df_test[\"f8\"].unique()"
   ]
  },
  {
   "cell_type": "code",
   "execution_count": 64,
   "id": "5ce276fd",
   "metadata": {
    "scrolled": true
   },
   "outputs": [
    {
     "data": {
      "text/plain": [
       "array([20., 40., 15.])"
      ]
     },
     "execution_count": 64,
     "metadata": {},
     "output_type": "execute_result"
    }
   ],
   "source": [
    "df_test[\"f8\"].unique()"
   ]
  },
  {
   "cell_type": "code",
   "execution_count": 65,
   "id": "a102a13a",
   "metadata": {},
   "outputs": [
    {
     "data": {
      "text/plain": [
       "array([1, 0, 2], dtype=int64)"
      ]
     },
     "execution_count": 65,
     "metadata": {},
     "output_type": "execute_result"
    }
   ],
   "source": [
    "df_test[\"f9\"].unique()"
   ]
  },
  {
   "cell_type": "code",
   "execution_count": 66,
   "id": "ecafaa9a",
   "metadata": {},
   "outputs": [],
   "source": [
    "df_test[\"f6\"] = le.fit_transform(df_test[\"f6\"])\n",
    "df_test[\"f7\"] = le.fit_transform(df_test[\"f7\"])\n",
    "df_test[\"f8\"] = le.fit_transform(df_test[\"f8\"])"
   ]
  },
  {
   "cell_type": "code",
   "execution_count": 67,
   "id": "195f599c",
   "metadata": {},
   "outputs": [
    {
     "data": {
      "text/html": [
       "<div>\n",
       "<style scoped>\n",
       "    .dataframe tbody tr th:only-of-type {\n",
       "        vertical-align: middle;\n",
       "    }\n",
       "\n",
       "    .dataframe tbody tr th {\n",
       "        vertical-align: top;\n",
       "    }\n",
       "\n",
       "    .dataframe thead th {\n",
       "        text-align: right;\n",
       "    }\n",
       "</style>\n",
       "<table border=\"1\" class=\"dataframe\">\n",
       "  <thead>\n",
       "    <tr style=\"text-align: right;\">\n",
       "      <th></th>\n",
       "      <th>time_to_dep(s)</th>\n",
       "      <th>travel_time(s)</th>\n",
       "      <th>f6</th>\n",
       "      <th>f7</th>\n",
       "      <th>f8</th>\n",
       "      <th>f9</th>\n",
       "    </tr>\n",
       "  </thead>\n",
       "  <tbody>\n",
       "    <tr>\n",
       "      <th>0</th>\n",
       "      <td>1441198.0</td>\n",
       "      <td>7200.0</td>\n",
       "      <td>3</td>\n",
       "      <td>0</td>\n",
       "      <td>1</td>\n",
       "      <td>1</td>\n",
       "    </tr>\n",
       "    <tr>\n",
       "      <th>1</th>\n",
       "      <td>420706.0</td>\n",
       "      <td>7200.0</td>\n",
       "      <td>3</td>\n",
       "      <td>0</td>\n",
       "      <td>1</td>\n",
       "      <td>1</td>\n",
       "    </tr>\n",
       "    <tr>\n",
       "      <th>2</th>\n",
       "      <td>4043178.0</td>\n",
       "      <td>7200.0</td>\n",
       "      <td>0</td>\n",
       "      <td>0</td>\n",
       "      <td>1</td>\n",
       "      <td>1</td>\n",
       "    </tr>\n",
       "    <tr>\n",
       "      <th>3</th>\n",
       "      <td>465652.0</td>\n",
       "      <td>6900.0</td>\n",
       "      <td>1</td>\n",
       "      <td>0</td>\n",
       "      <td>2</td>\n",
       "      <td>0</td>\n",
       "    </tr>\n",
       "    <tr>\n",
       "      <th>4</th>\n",
       "      <td>1469499.0</td>\n",
       "      <td>7200.0</td>\n",
       "      <td>0</td>\n",
       "      <td>0</td>\n",
       "      <td>1</td>\n",
       "      <td>1</td>\n",
       "    </tr>\n",
       "  </tbody>\n",
       "</table>\n",
       "</div>"
      ],
      "text/plain": [
       "   time_to_dep(s)  travel_time(s)  f6  f7  f8  f9\n",
       "0       1441198.0          7200.0   3   0   1   1\n",
       "1        420706.0          7200.0   3   0   1   1\n",
       "2       4043178.0          7200.0   0   0   1   1\n",
       "3        465652.0          6900.0   1   0   2   0\n",
       "4       1469499.0          7200.0   0   0   1   1"
      ]
     },
     "execution_count": 67,
     "metadata": {},
     "output_type": "execute_result"
    }
   ],
   "source": [
    "df_test.head()"
   ]
  },
  {
   "cell_type": "markdown",
   "id": "b2c301dd",
   "metadata": {},
   "source": [
    "# Here's the final predicted result of untrain test file"
   ]
  },
  {
   "cell_type": "code",
   "execution_count": 68,
   "id": "02456aa9",
   "metadata": {
    "scrolled": false
   },
   "outputs": [
    {
     "data": {
      "text/plain": [
       "array([[ 9858.66444144],\n",
       "       [10163.59815744],\n",
       "       [ 9177.05433143],\n",
       "       [ 9660.03998812],\n",
       "       [ 9946.09661815],\n",
       "       [10192.05358172],\n",
       "       [10221.05194467],\n",
       "       [ 9693.52225485],\n",
       "       [ 9540.32898855],\n",
       "       [10187.14823681],\n",
       "       [ 9108.57450895],\n",
       "       [ 9648.21277006],\n",
       "       [10111.11276788],\n",
       "       [ 9442.82687284],\n",
       "       [ 9810.79350666],\n",
       "       [ 9420.31269756],\n",
       "       [10033.03821992],\n",
       "       [11036.17072024],\n",
       "       [11214.42492365],\n",
       "       [10188.69637397],\n",
       "       [10759.23170823],\n",
       "       [ 9491.35190378],\n",
       "       [ 8511.68945647],\n",
       "       [ 9201.39123625],\n",
       "       [10237.26368472],\n",
       "       [ 8950.69879589],\n",
       "       [ 9755.64495602],\n",
       "       [10378.44611579],\n",
       "       [ 9782.73695448],\n",
       "       [10223.3585385 ],\n",
       "       [ 9418.8659727 ],\n",
       "       [ 8083.32160863],\n",
       "       [ 9644.72560517],\n",
       "       [ 9698.53898419],\n",
       "       [ 9313.03225733],\n",
       "       [10172.19486339],\n",
       "       [11349.95046751],\n",
       "       [ 9981.22565891],\n",
       "       [10094.38386252],\n",
       "       [ 9650.77925337],\n",
       "       [ 7520.67845352],\n",
       "       [10645.20024612],\n",
       "       [ 9509.9805998 ],\n",
       "       [10184.77209578],\n",
       "       [ 9174.0703954 ],\n",
       "       [ 9425.13634887],\n",
       "       [ 9630.210932  ],\n",
       "       [10039.15830512],\n",
       "       [10142.13161173],\n",
       "       [ 9926.03687224],\n",
       "       [ 9869.03383875],\n",
       "       [ 9776.45696993],\n",
       "       [ 9676.06574594],\n",
       "       [10265.82399148],\n",
       "       [10921.86435248],\n",
       "       [ 9034.73804879],\n",
       "       [ 8770.54838756],\n",
       "       [10200.57488163],\n",
       "       [10258.90495891],\n",
       "       [ 9879.68718168],\n",
       "       [11338.51977097],\n",
       "       [ 9741.45384816],\n",
       "       [11211.54319527],\n",
       "       [ 9954.82427498],\n",
       "       [ 9832.90735153],\n",
       "       [10647.3665767 ],\n",
       "       [10055.00138866],\n",
       "       [ 9736.68458035],\n",
       "       [ 9994.98925788],\n",
       "       [ 9743.37073193],\n",
       "       [ 9719.14320927],\n",
       "       [ 9694.00701182],\n",
       "       [10237.64783592],\n",
       "       [10113.73965639],\n",
       "       [ 9398.36681337],\n",
       "       [ 9786.57756573],\n",
       "       [ 9648.71442642],\n",
       "       [ 9557.03100097],\n",
       "       [10328.64815216],\n",
       "       [11372.57037623],\n",
       "       [10221.01788028],\n",
       "       [ 8083.03143166],\n",
       "       [10283.41620584],\n",
       "       [11352.11679809],\n",
       "       [10154.32898411],\n",
       "       [ 9751.34029208],\n",
       "       [10246.29408206],\n",
       "       [10099.78889798],\n",
       "       [ 9852.95992599],\n",
       "       [ 9423.46360774],\n",
       "       [ 9760.93091361],\n",
       "       [ 9845.04219687],\n",
       "       [ 9280.78228206],\n",
       "       [10272.36958658],\n",
       "       [10063.12223327],\n",
       "       [ 9764.03645105],\n",
       "       [10352.24551547],\n",
       "       [ 9644.19436657],\n",
       "       [ 9198.79294221],\n",
       "       [10062.64316817],\n",
       "       [ 8323.48844942],\n",
       "       [ 9746.71859021],\n",
       "       [ 8722.96608925],\n",
       "       [ 9367.52269802],\n",
       "       [ 9070.49431238],\n",
       "       [ 9517.85310746],\n",
       "       [ 9774.74463828],\n",
       "       [ 9737.81753195],\n",
       "       [11193.88977025],\n",
       "       [ 9378.37997723],\n",
       "       [10004.49143151],\n",
       "       [ 9640.04512399],\n",
       "       [10068.80441357],\n",
       "       [ 9917.44106272],\n",
       "       [10797.33866591],\n",
       "       [10235.44235913],\n",
       "       [ 9704.73038402],\n",
       "       [ 9208.40401967],\n",
       "       [10144.07268469],\n",
       "       [ 9439.24925473],\n",
       "       [ 9756.7810335 ],\n",
       "       [ 9632.62289831],\n",
       "       [ 6929.67615507],\n",
       "       [ 9750.09096541],\n",
       "       [ 9393.39610085],\n",
       "       [ 9948.82973191],\n",
       "       [ 8799.25476621],\n",
       "       [10658.60189666],\n",
       "       [ 9101.63247173],\n",
       "       [ 9495.43838961],\n",
       "       [ 9749.17839817],\n",
       "       [ 7953.69491369],\n",
       "       [10916.6187343 ],\n",
       "       [ 9653.46013465],\n",
       "       [ 8356.87569442],\n",
       "       [ 9753.41886431],\n",
       "       [10333.70046838],\n",
       "       [ 9418.14567742],\n",
       "       [ 9862.72251484],\n",
       "       [ 9743.04659443],\n",
       "       [ 9761.99796587],\n",
       "       [10265.13628102],\n",
       "       [11217.96343749],\n",
       "       [10057.32703071],\n",
       "       [ 9898.53823915],\n",
       "       [ 9726.96666555],\n",
       "       [ 8616.15056971],\n",
       "       [10373.38396726],\n",
       "       [ 9393.69879588],\n",
       "       [10747.84847708],\n",
       "       [ 9735.46005496],\n",
       "       [ 9692.02029651],\n",
       "       [ 9618.60867179],\n",
       "       [10208.10807181],\n",
       "       [ 7951.21031893],\n",
       "       [ 5384.66183555],\n",
       "       [ 9556.64827118],\n",
       "       [ 9504.99972772],\n",
       "       [10261.60094829],\n",
       "       [ 9600.92552772],\n",
       "       [10334.29298115],\n",
       "       [10257.9555661 ],\n",
       "       [ 8080.4059314 ],\n",
       "       [ 9413.00314887],\n",
       "       [ 7597.70059094],\n",
       "       [10034.58373967],\n",
       "       [ 9579.82546049],\n",
       "       [11313.26007941],\n",
       "       [10011.70867695],\n",
       "       [ 9013.00709035],\n",
       "       [ 8146.90728596],\n",
       "       [10293.13706326],\n",
       "       [ 8126.18179027],\n",
       "       [10133.00437339],\n",
       "       [10164.32165328],\n",
       "       [ 9484.65373583],\n",
       "       [ 5295.5496599 ],\n",
       "       [ 9962.75358207],\n",
       "       [ 9772.26753129],\n",
       "       [ 9726.37591721],\n",
       "       [10234.14773439],\n",
       "       [ 9775.12744651],\n",
       "       [10316.87143307],\n",
       "       [10362.19470959],\n",
       "       [10827.15158626],\n",
       "       [10339.87062326],\n",
       "       [10079.07699629],\n",
       "       [ 9305.78311836],\n",
       "       [ 9502.52801378],\n",
       "       [11085.25606633],\n",
       "       [ 7946.72542581],\n",
       "       [10211.01348186],\n",
       "       [ 9682.28676792],\n",
       "       [10173.54025575],\n",
       "       [ 9618.70520205],\n",
       "       [ 9828.75829222],\n",
       "       [ 8875.8385631 ],\n",
       "       [ 9735.97306612],\n",
       "       [ 9942.47092353],\n",
       "       [10239.73297897],\n",
       "       [ 9571.5357685 ],\n",
       "       [ 9755.44953395],\n",
       "       [ 9689.98762555],\n",
       "       [ 9946.02288384],\n",
       "       [11007.17688493],\n",
       "       [ 9892.69156179],\n",
       "       [ 9906.14961187],\n",
       "       [10280.39653281],\n",
       "       [10175.97810302],\n",
       "       [ 9750.20570864],\n",
       "       [ 9505.1375258 ],\n",
       "       [ 9512.6836395 ],\n",
       "       [ 8017.31643077],\n",
       "       [ 9720.76063847],\n",
       "       [ 8629.43812109],\n",
       "       [ 8330.09903393],\n",
       "       [11169.66699657],\n",
       "       [ 9042.32039956],\n",
       "       [10095.9980368 ],\n",
       "       [10367.6178212 ],\n",
       "       [ 9902.88471952],\n",
       "       [ 9356.35720838],\n",
       "       [ 9994.38543752],\n",
       "       [10049.30715013],\n",
       "       [11293.64680185],\n",
       "       [ 9595.66839275],\n",
       "       [ 9311.91826338],\n",
       "       [11357.25962546],\n",
       "       [10302.84586622],\n",
       "       [ 9879.10270836],\n",
       "       [10063.97653246],\n",
       "       [ 9587.61157993],\n",
       "       [10006.8255159 ],\n",
       "       [ 9446.27847273],\n",
       "       [ 9505.34878482],\n",
       "       [ 9861.99020221],\n",
       "       [11308.54216056],\n",
       "       [ 9374.63141408],\n",
       "       [11084.77941812],\n",
       "       [10371.17545891],\n",
       "       [ 8570.43022049],\n",
       "       [ 9716.8270827 ],\n",
       "       [ 9222.98721334],\n",
       "       [10300.68546637],\n",
       "       [ 9496.04872263],\n",
       "       [ 9671.69743537],\n",
       "       [10006.21807965],\n",
       "       [ 8592.59235057],\n",
       "       [10076.20916448],\n",
       "       [ 9448.62797972]])"
      ]
     },
     "execution_count": 68,
     "metadata": {},
     "output_type": "execute_result"
    }
   ],
   "source": [
    "lr.predict(df_test)"
   ]
  },
  {
   "cell_type": "code",
   "execution_count": null,
   "id": "86e756a2",
   "metadata": {},
   "outputs": [],
   "source": []
  }
 ],
 "metadata": {
  "kernelspec": {
   "display_name": "Python 3 (ipykernel)",
   "language": "python",
   "name": "python3"
  },
  "language_info": {
   "codemirror_mode": {
    "name": "ipython",
    "version": 3
   },
   "file_extension": ".py",
   "mimetype": "text/x-python",
   "name": "python",
   "nbconvert_exporter": "python",
   "pygments_lexer": "ipython3",
   "version": "3.9.7"
  }
 },
 "nbformat": 4,
 "nbformat_minor": 5
}
